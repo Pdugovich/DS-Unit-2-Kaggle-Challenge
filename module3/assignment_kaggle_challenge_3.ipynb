{
  "nbformat": 4,
  "nbformat_minor": 0,
  "metadata": {
    "celltoolbar": "Attachments",
    "kernelspec": {
      "display_name": "Python 3",
      "language": "python",
      "name": "python3"
    },
    "language_info": {
      "codemirror_mode": {
        "name": "ipython",
        "version": 3
      },
      "file_extension": ".py",
      "mimetype": "text/x-python",
      "name": "python",
      "nbconvert_exporter": "python",
      "pygments_lexer": "ipython3",
      "version": "3.7.4"
    },
    "colab": {
      "name": "assignment_kaggle_challenge_3.ipynb",
      "provenance": [],
      "include_colab_link": true
    }
  },
  "cells": [
    {
      "cell_type": "markdown",
      "metadata": {
        "id": "view-in-github",
        "colab_type": "text"
      },
      "source": [
        "<a href=\"https://colab.research.google.com/github/Pdugovich/DS-Unit-2-Kaggle-Challenge/blob/master/module3/assignment_kaggle_challenge_3.ipynb\" target=\"_parent\"><img src=\"https://colab.research.google.com/assets/colab-badge.svg\" alt=\"Open In Colab\"/></a>"
      ]
    },
    {
      "cell_type": "markdown",
      "metadata": {
        "id": "IXTofM1R7Z0t",
        "colab_type": "text"
      },
      "source": [
        "Lambda School Data Science, Unit 2: Predictive Modeling\n",
        "\n",
        "# Kaggle Challenge, Module 3\n",
        "\n",
        "\n",
        "## Assignment\n",
        "- [ ] [Review requirements for your portfolio project](https://lambdaschool.github.io/ds/unit2), then submit your dataset.\n",
        "- [ ] Continue to participate in our Kaggle challenge. \n",
        "- [ ] Use scikit-learn for hyperparameter optimization with RandomizedSearchCV.\n",
        "- [ ] Submit your predictions to our Kaggle competition. (Go to our Kaggle InClass competition webpage. Use the blue **Submit Predictions** button to upload your CSV file. Or you can use the Kaggle API to submit your predictions.)\n",
        "- [ ] Commit your notebook to your fork of the GitHub repo.\n",
        "\n",
        "## Stretch Goals\n",
        "\n",
        "### Reading\n",
        "- Jake VanderPlas, [Python Data Science Handbook, Chapter 5.3](https://jakevdp.github.io/PythonDataScienceHandbook/05.03-hyperparameters-and-model-validation.html), Hyperparameters and Model Validation\n",
        "- Jake VanderPlas, [Statistics for Hackers](https://speakerdeck.com/jakevdp/statistics-for-hackers?slide=107)\n",
        "- Ron Zacharski, [A Programmer's Guide to Data Mining, Chapter 5](http://guidetodatamining.com/chapter5/), 10-fold cross validation\n",
        "- Sebastian Raschka, [A Basic Pipeline and Grid Search Setup](https://github.com/rasbt/python-machine-learning-book/blob/master/code/bonus/svm_iris_pipeline_and_gridsearch.ipynb)\n",
        "- Peter Worcester, [A Comparison of Grid Search and Randomized Search Using Scikit Learn](https://blog.usejournal.com/a-comparison-of-grid-search-and-randomized-search-using-scikit-learn-29823179bc85)\n",
        "\n",
        "### Doing\n",
        "- In additon to `RandomizedSearchCV`, scikit-learn has [`GridSearchCV`](https://scikit-learn.org/stable/modules/generated/sklearn.model_selection.GridSearchCV.html). Another library called scikit-optimize has [`BayesSearchCV`](https://scikit-optimize.github.io/notebooks/sklearn-gridsearchcv-replacement.html). Experiment with these alternatives.\n",
        "- _[Introduction to Machine Learning with Python](http://shop.oreilly.com/product/0636920030515.do)_ discusses options for \"Grid-Searching Which Model To Use\" in Chapter 6:\n",
        "\n",
        "> You can even go further in combining GridSearchCV and Pipeline: it is also possible to search over the actual steps being performed in the pipeline (say whether to use StandardScaler or MinMaxScaler). This leads to an even bigger search space and should be considered carefully. Trying all possible solutions is usually not a viable machine learning strategy. However, here is an example comparing a RandomForestClassifier and an SVC ...\n",
        "\n",
        "The example is shown in [the accompanying notebook](https://github.com/amueller/introduction_to_ml_with_python/blob/master/06-algorithm-chains-and-pipelines.ipynb), code cells 35-37. Could you apply this concept to your own pipelines?"
      ]
    },
    {
      "cell_type": "markdown",
      "metadata": {
        "id": "wk1VCLIT7T9M",
        "colab_type": "text"
      },
      "source": [
        "### Copied from Assignment2"
      ]
    },
    {
      "cell_type": "code",
      "metadata": {
        "id": "d2zAVFTu7Gah",
        "colab_type": "code",
        "colab": {}
      },
      "source": [
        "import sys\n",
        "\n",
        "DATA_PATH = 'https://raw.githubusercontent.com/LambdaSchool/DS-Unit-2-Kaggle-Challenge/master/data/'"
      ],
      "execution_count": 0,
      "outputs": []
    },
    {
      "cell_type": "code",
      "metadata": {
        "id": "eI_B1DaC7Gam",
        "colab_type": "code",
        "colab": {},
        "outputId": "6f7ced3b-998c-422b-9d8f-5fbb565f8cde"
      },
      "source": [
        "import numpy as np\n",
        "import pandas as pd\n",
        "from sklearn.model_selection import train_test_split\n",
        "\n",
        "train = pd.merge(pd.read_csv(DATA_PATH+'waterpumps/train_features.csv'), \n",
        "                 pd.read_csv(DATA_PATH+'waterpumps/train_labels.csv'))\n",
        "test = pd.read_csv(DATA_PATH+'waterpumps/test_features.csv')\n",
        "sample_submission = pd.read_csv(DATA_PATH+'waterpumps/sample_submission.csv')\n",
        "\n",
        "train.shape, test.shape"
      ],
      "execution_count": 0,
      "outputs": [
        {
          "output_type": "execute_result",
          "data": {
            "text/plain": [
              "((59400, 41), (14358, 40))"
            ]
          },
          "metadata": {
            "tags": []
          },
          "execution_count": 247
        }
      ]
    },
    {
      "cell_type": "code",
      "metadata": {
        "id": "TrRxoODI7Gar",
        "colab_type": "code",
        "colab": {},
        "outputId": "b95e6af0-ebf1-4575-e966-e12649f3e1f3"
      },
      "source": [
        "#Checked the average elevation of Tanzania, and it's 1200, so I \n",
        "#really can ignore the zeroes here. But also the lowest elevation is 0,\n",
        "#so I'm a little confused about the negative numbers\n",
        "train['gps_height'].value_counts()"
      ],
      "execution_count": 0,
      "outputs": [
        {
          "output_type": "execute_result",
          "data": {
            "text/plain": [
              " 0       20438\n",
              "-15         60\n",
              "-16         55\n",
              "-13         55\n",
              "-20         52\n",
              "         ...  \n",
              " 2285        1\n",
              " 2424        1\n",
              " 2552        1\n",
              " 2413        1\n",
              " 2385        1\n",
              "Name: gps_height, Length: 2428, dtype: int64"
            ]
          },
          "metadata": {
            "tags": []
          },
          "execution_count": 248
        }
      ]
    },
    {
      "cell_type": "code",
      "metadata": {
        "id": "bNpSKc3k7Gav",
        "colab_type": "code",
        "colab": {}
      },
      "source": [
        "# Numeric Columns to clean\n",
        "numeric_to_clean = ['longitude','latitude','construction_year', 'gps_height']"
      ],
      "execution_count": 0,
      "outputs": []
    },
    {
      "cell_type": "code",
      "metadata": {
        "id": "CBnBVrvL7Gay",
        "colab_type": "code",
        "colab": {},
        "outputId": "0a6f0ca7-effd-4ea0-ac0a-0259b526470d"
      },
      "source": [
        "# Checking for duplicat columns\n",
        "duplicates1 = ['extraction_type','extraction_type_group','extraction_type_class']\n",
        "duplicates2 = ['payment','payment_type']\n",
        "duplicates3 = ['quantity_group','quantity']\n",
        "duplicates4 = ['source','source_type']\n",
        "duplicates5 = ['waterpoint_type','waterpoint_type_group']\n",
        "train.head()"
      ],
      "execution_count": 0,
      "outputs": [
        {
          "output_type": "execute_result",
          "data": {
            "text/html": [
              "<div>\n",
              "<style scoped>\n",
              "    .dataframe tbody tr th:only-of-type {\n",
              "        vertical-align: middle;\n",
              "    }\n",
              "\n",
              "    .dataframe tbody tr th {\n",
              "        vertical-align: top;\n",
              "    }\n",
              "\n",
              "    .dataframe thead th {\n",
              "        text-align: right;\n",
              "    }\n",
              "</style>\n",
              "<table border=\"1\" class=\"dataframe\">\n",
              "  <thead>\n",
              "    <tr style=\"text-align: right;\">\n",
              "      <th></th>\n",
              "      <th>id</th>\n",
              "      <th>amount_tsh</th>\n",
              "      <th>date_recorded</th>\n",
              "      <th>funder</th>\n",
              "      <th>gps_height</th>\n",
              "      <th>installer</th>\n",
              "      <th>longitude</th>\n",
              "      <th>latitude</th>\n",
              "      <th>wpt_name</th>\n",
              "      <th>num_private</th>\n",
              "      <th>...</th>\n",
              "      <th>water_quality</th>\n",
              "      <th>quality_group</th>\n",
              "      <th>quantity</th>\n",
              "      <th>quantity_group</th>\n",
              "      <th>source</th>\n",
              "      <th>source_type</th>\n",
              "      <th>source_class</th>\n",
              "      <th>waterpoint_type</th>\n",
              "      <th>waterpoint_type_group</th>\n",
              "      <th>status_group</th>\n",
              "    </tr>\n",
              "  </thead>\n",
              "  <tbody>\n",
              "    <tr>\n",
              "      <td>0</td>\n",
              "      <td>69572</td>\n",
              "      <td>6000.0</td>\n",
              "      <td>2011-03-14</td>\n",
              "      <td>Roman</td>\n",
              "      <td>1390</td>\n",
              "      <td>Roman</td>\n",
              "      <td>34.938093</td>\n",
              "      <td>-9.856322</td>\n",
              "      <td>none</td>\n",
              "      <td>0</td>\n",
              "      <td>...</td>\n",
              "      <td>soft</td>\n",
              "      <td>good</td>\n",
              "      <td>enough</td>\n",
              "      <td>enough</td>\n",
              "      <td>spring</td>\n",
              "      <td>spring</td>\n",
              "      <td>groundwater</td>\n",
              "      <td>communal standpipe</td>\n",
              "      <td>communal standpipe</td>\n",
              "      <td>functional</td>\n",
              "    </tr>\n",
              "    <tr>\n",
              "      <td>1</td>\n",
              "      <td>8776</td>\n",
              "      <td>0.0</td>\n",
              "      <td>2013-03-06</td>\n",
              "      <td>Grumeti</td>\n",
              "      <td>1399</td>\n",
              "      <td>GRUMETI</td>\n",
              "      <td>34.698766</td>\n",
              "      <td>-2.147466</td>\n",
              "      <td>Zahanati</td>\n",
              "      <td>0</td>\n",
              "      <td>...</td>\n",
              "      <td>soft</td>\n",
              "      <td>good</td>\n",
              "      <td>insufficient</td>\n",
              "      <td>insufficient</td>\n",
              "      <td>rainwater harvesting</td>\n",
              "      <td>rainwater harvesting</td>\n",
              "      <td>surface</td>\n",
              "      <td>communal standpipe</td>\n",
              "      <td>communal standpipe</td>\n",
              "      <td>functional</td>\n",
              "    </tr>\n",
              "    <tr>\n",
              "      <td>2</td>\n",
              "      <td>34310</td>\n",
              "      <td>25.0</td>\n",
              "      <td>2013-02-25</td>\n",
              "      <td>Lottery Club</td>\n",
              "      <td>686</td>\n",
              "      <td>World vision</td>\n",
              "      <td>37.460664</td>\n",
              "      <td>-3.821329</td>\n",
              "      <td>Kwa Mahundi</td>\n",
              "      <td>0</td>\n",
              "      <td>...</td>\n",
              "      <td>soft</td>\n",
              "      <td>good</td>\n",
              "      <td>enough</td>\n",
              "      <td>enough</td>\n",
              "      <td>dam</td>\n",
              "      <td>dam</td>\n",
              "      <td>surface</td>\n",
              "      <td>communal standpipe multiple</td>\n",
              "      <td>communal standpipe</td>\n",
              "      <td>functional</td>\n",
              "    </tr>\n",
              "    <tr>\n",
              "      <td>3</td>\n",
              "      <td>67743</td>\n",
              "      <td>0.0</td>\n",
              "      <td>2013-01-28</td>\n",
              "      <td>Unicef</td>\n",
              "      <td>263</td>\n",
              "      <td>UNICEF</td>\n",
              "      <td>38.486161</td>\n",
              "      <td>-11.155298</td>\n",
              "      <td>Zahanati Ya Nanyumbu</td>\n",
              "      <td>0</td>\n",
              "      <td>...</td>\n",
              "      <td>soft</td>\n",
              "      <td>good</td>\n",
              "      <td>dry</td>\n",
              "      <td>dry</td>\n",
              "      <td>machine dbh</td>\n",
              "      <td>borehole</td>\n",
              "      <td>groundwater</td>\n",
              "      <td>communal standpipe multiple</td>\n",
              "      <td>communal standpipe</td>\n",
              "      <td>non functional</td>\n",
              "    </tr>\n",
              "    <tr>\n",
              "      <td>4</td>\n",
              "      <td>19728</td>\n",
              "      <td>0.0</td>\n",
              "      <td>2011-07-13</td>\n",
              "      <td>Action In A</td>\n",
              "      <td>0</td>\n",
              "      <td>Artisan</td>\n",
              "      <td>31.130847</td>\n",
              "      <td>-1.825359</td>\n",
              "      <td>Shuleni</td>\n",
              "      <td>0</td>\n",
              "      <td>...</td>\n",
              "      <td>soft</td>\n",
              "      <td>good</td>\n",
              "      <td>seasonal</td>\n",
              "      <td>seasonal</td>\n",
              "      <td>rainwater harvesting</td>\n",
              "      <td>rainwater harvesting</td>\n",
              "      <td>surface</td>\n",
              "      <td>communal standpipe</td>\n",
              "      <td>communal standpipe</td>\n",
              "      <td>functional</td>\n",
              "    </tr>\n",
              "  </tbody>\n",
              "</table>\n",
              "<p>5 rows × 41 columns</p>\n",
              "</div>"
            ],
            "text/plain": [
              "      id  amount_tsh date_recorded        funder  gps_height     installer  \\\n",
              "0  69572      6000.0    2011-03-14         Roman        1390         Roman   \n",
              "1   8776         0.0    2013-03-06       Grumeti        1399       GRUMETI   \n",
              "2  34310        25.0    2013-02-25  Lottery Club         686  World vision   \n",
              "3  67743         0.0    2013-01-28        Unicef         263        UNICEF   \n",
              "4  19728         0.0    2011-07-13   Action In A           0       Artisan   \n",
              "\n",
              "   longitude   latitude              wpt_name  num_private  ... water_quality  \\\n",
              "0  34.938093  -9.856322                  none            0  ...          soft   \n",
              "1  34.698766  -2.147466              Zahanati            0  ...          soft   \n",
              "2  37.460664  -3.821329           Kwa Mahundi            0  ...          soft   \n",
              "3  38.486161 -11.155298  Zahanati Ya Nanyumbu            0  ...          soft   \n",
              "4  31.130847  -1.825359               Shuleni            0  ...          soft   \n",
              "\n",
              "  quality_group      quantity  quantity_group                source  \\\n",
              "0          good        enough          enough                spring   \n",
              "1          good  insufficient    insufficient  rainwater harvesting   \n",
              "2          good        enough          enough                   dam   \n",
              "3          good           dry             dry           machine dbh   \n",
              "4          good      seasonal        seasonal  rainwater harvesting   \n",
              "\n",
              "            source_type source_class              waterpoint_type  \\\n",
              "0                spring  groundwater           communal standpipe   \n",
              "1  rainwater harvesting      surface           communal standpipe   \n",
              "2                   dam      surface  communal standpipe multiple   \n",
              "3              borehole  groundwater  communal standpipe multiple   \n",
              "4  rainwater harvesting      surface           communal standpipe   \n",
              "\n",
              "  waterpoint_type_group    status_group  \n",
              "0    communal standpipe      functional  \n",
              "1    communal standpipe      functional  \n",
              "2    communal standpipe      functional  \n",
              "3    communal standpipe  non functional  \n",
              "4    communal standpipe      functional  \n",
              "\n",
              "[5 rows x 41 columns]"
            ]
          },
          "metadata": {
            "tags": []
          },
          "execution_count": 250
        }
      ]
    },
    {
      "cell_type": "code",
      "metadata": {
        "id": "K7myAmAz7Ga2",
        "colab_type": "code",
        "colab": {},
        "outputId": "d98f89cf-3dd7-4169-a90b-9983c1aec64e"
      },
      "source": [
        "#Checking the duplicates to decide which to keep\n",
        "duplicate_lists = [duplicates1, duplicates2, duplicates3, duplicates4,\n",
        "                   duplicates5]\n",
        "\n",
        "for duplicate in duplicate_lists:\n",
        "  print(train[duplicate].describe())\n",
        "  print(\"\")"
      ],
      "execution_count": 0,
      "outputs": [
        {
          "output_type": "stream",
          "text": [
            "       extraction_type extraction_type_group extraction_type_class\n",
            "count            59400                 59400                 59400\n",
            "unique              18                    13                     7\n",
            "top            gravity               gravity               gravity\n",
            "freq             26780                 26780                 26780\n",
            "\n",
            "          payment payment_type\n",
            "count       59400        59400\n",
            "unique          7            7\n",
            "top     never pay    never pay\n",
            "freq        25348        25348\n",
            "\n",
            "       quantity_group quantity\n",
            "count           59400    59400\n",
            "unique              5        5\n",
            "top            enough   enough\n",
            "freq            33186    33186\n",
            "\n",
            "        source source_type\n",
            "count    59400       59400\n",
            "unique      10           7\n",
            "top     spring      spring\n",
            "freq     17021       17021\n",
            "\n",
            "           waterpoint_type waterpoint_type_group\n",
            "count                59400                 59400\n",
            "unique                   7                     6\n",
            "top     communal standpipe    communal standpipe\n",
            "freq                 28522                 34625\n",
            "\n"
          ],
          "name": "stdout"
        }
      ]
    },
    {
      "cell_type": "code",
      "metadata": {
        "id": "oDZE_U877Ga6",
        "colab_type": "code",
        "colab": {}
      },
      "source": [
        "#my_train['region'].value_counts().index"
      ],
      "execution_count": 0,
      "outputs": []
    },
    {
      "cell_type": "code",
      "metadata": {
        "id": "1IBxtHEg7GbA",
        "colab_type": "code",
        "colab": {},
        "outputId": "5e82a57b-3fee-4495-b82b-4ea432e92d2b"
      },
      "source": [
        "Mwanza = train[train['region'] == 'Mwanza']\n",
        "Mwanza['longitude'] = Mwanza['longitude'].replace(0,np.nan)\n",
        "Mwanza['latitude'] = Mwanza['latitude'].replace(-2e-08, np.nan)"
      ],
      "execution_count": 0,
      "outputs": [
        {
          "output_type": "stream",
          "text": [
            "D:\\Users\\Patch\\Anaconda3\\envs\\unit\\lib\\site-packages\\ipykernel_launcher.py:2: SettingWithCopyWarning: \n",
            "A value is trying to be set on a copy of a slice from a DataFrame.\n",
            "Try using .loc[row_indexer,col_indexer] = value instead\n",
            "\n",
            "See the caveats in the documentation: http://pandas.pydata.org/pandas-docs/stable/user_guide/indexing.html#returning-a-view-versus-a-copy\n",
            "  \n",
            "D:\\Users\\Patch\\Anaconda3\\envs\\unit\\lib\\site-packages\\ipykernel_launcher.py:3: SettingWithCopyWarning: \n",
            "A value is trying to be set on a copy of a slice from a DataFrame.\n",
            "Try using .loc[row_indexer,col_indexer] = value instead\n",
            "\n",
            "See the caveats in the documentation: http://pandas.pydata.org/pandas-docs/stable/user_guide/indexing.html#returning-a-view-versus-a-copy\n",
            "  This is separate from the ipykernel package so we can avoid doing imports until\n"
          ],
          "name": "stderr"
        }
      ]
    },
    {
      "cell_type": "code",
      "metadata": {
        "id": "ydipmBk27GbD",
        "colab_type": "code",
        "colab": {},
        "outputId": "f70ef8d4-4ba6-4d27-92f1-61599b596281"
      },
      "source": [
        "np.mean(Mwanza['latitude'])"
      ],
      "execution_count": 0,
      "outputs": [
        {
          "output_type": "execute_result",
          "data": {
            "text/plain": [
              "-2.6205017775686277"
            ]
          },
          "metadata": {
            "tags": []
          },
          "execution_count": 254
        }
      ]
    },
    {
      "cell_type": "code",
      "metadata": {
        "id": "gD8Xrs7Q7GbH",
        "colab_type": "code",
        "colab": {},
        "outputId": "4f730fbd-a1d2-40a1-b3f2-f8b1d67baccd"
      },
      "source": [
        "np.mean(Mwanza['longitude'])"
      ],
      "execution_count": 0,
      "outputs": [
        {
          "output_type": "execute_result",
          "data": {
            "text/plain": [
              "33.09156419778649"
            ]
          },
          "metadata": {
            "tags": []
          },
          "execution_count": 255
        }
      ]
    },
    {
      "cell_type": "code",
      "metadata": {
        "id": "xcOGOdeT7GbL",
        "colab_type": "code",
        "colab": {},
        "outputId": "88d370c0-0841-4771-f90c-475c517d2516"
      },
      "source": [
        "Shinyanga = train[train['region'] == 'Shinyanga']\n",
        "Shinyanga['longitude'] = Shinyanga['longitude'].replace(0,np.nan)\n",
        "Shinyanga['latitude'] = Shinyanga['latitude'].replace(-2e-08, np.nan)"
      ],
      "execution_count": 0,
      "outputs": [
        {
          "output_type": "stream",
          "text": [
            "D:\\Users\\Patch\\Anaconda3\\envs\\unit\\lib\\site-packages\\ipykernel_launcher.py:2: SettingWithCopyWarning: \n",
            "A value is trying to be set on a copy of a slice from a DataFrame.\n",
            "Try using .loc[row_indexer,col_indexer] = value instead\n",
            "\n",
            "See the caveats in the documentation: http://pandas.pydata.org/pandas-docs/stable/user_guide/indexing.html#returning-a-view-versus-a-copy\n",
            "  \n",
            "D:\\Users\\Patch\\Anaconda3\\envs\\unit\\lib\\site-packages\\ipykernel_launcher.py:3: SettingWithCopyWarning: \n",
            "A value is trying to be set on a copy of a slice from a DataFrame.\n",
            "Try using .loc[row_indexer,col_indexer] = value instead\n",
            "\n",
            "See the caveats in the documentation: http://pandas.pydata.org/pandas-docs/stable/user_guide/indexing.html#returning-a-view-versus-a-copy\n",
            "  This is separate from the ipykernel package so we can avoid doing imports until\n"
          ],
          "name": "stderr"
        }
      ]
    },
    {
      "cell_type": "code",
      "metadata": {
        "id": "-8WziemJ7GbO",
        "colab_type": "code",
        "colab": {},
        "outputId": "4536d5a3-be3b-42ff-dc11-b5415e7bec43"
      },
      "source": [
        "np.mean(Shinyanga['longitude'])"
      ],
      "execution_count": 0,
      "outputs": [
        {
          "output_type": "execute_result",
          "data": {
            "text/plain": [
              "33.24012071028917"
            ]
          },
          "metadata": {
            "tags": []
          },
          "execution_count": 257
        }
      ]
    },
    {
      "cell_type": "code",
      "metadata": {
        "id": "F8D7Upah7GbS",
        "colab_type": "code",
        "colab": {},
        "outputId": "13b14704-2958-4e4b-ae9c-07acf3a08f85"
      },
      "source": [
        "np.mean(Shinyanga['latitude'])"
      ],
      "execution_count": 0,
      "outputs": [
        {
          "output_type": "execute_result",
          "data": {
            "text/plain": [
              "-3.495696017133518"
            ]
          },
          "metadata": {
            "tags": []
          },
          "execution_count": 258
        }
      ]
    },
    {
      "cell_type": "code",
      "metadata": {
        "id": "hhm_COWD7GbV",
        "colab_type": "code",
        "colab": {}
      },
      "source": [
        "#Looking at the above lists, I'll remove the duplicate columns\n",
        "# and nearly duplicate columns that have fewer unique variables\n",
        "\n",
        "duplicates_to_drop = ['extraction_type_group','extraction_type_class',\n",
        "                    'payment_type','quantity_group', 'source_type',\n",
        "                    'waterpoint_type_group']"
      ],
      "execution_count": 0,
      "outputs": []
    },
    {
      "cell_type": "code",
      "metadata": {
        "id": "cKxFIlaP7GbY",
        "colab_type": "code",
        "colab": {}
      },
      "source": [
        "from sklearn.model_selection import train_test_split\n",
        "\n",
        "my_train, my_val = train_test_split(train, random_state=333)"
      ],
      "execution_count": 0,
      "outputs": []
    },
    {
      "cell_type": "code",
      "metadata": {
        "id": "dK7jtTXl7Gbb",
        "colab_type": "code",
        "colab": {},
        "outputId": "7a65e1d7-139a-4d9b-8d7d-e99f6d77db29"
      },
      "source": [
        "my_train[my_train['longitude']==0]['region'].value_counts()"
      ],
      "execution_count": 0,
      "outputs": [
        {
          "output_type": "execute_result",
          "data": {
            "text/plain": [
              "Shinyanga    763\n",
              "Mwanza       623\n",
              "Name: region, dtype: int64"
            ]
          },
          "metadata": {
            "tags": []
          },
          "execution_count": 261
        }
      ]
    },
    {
      "cell_type": "code",
      "metadata": {
        "id": "Meea7qxB7Gbf",
        "colab_type": "code",
        "colab": {},
        "outputId": "e91ec31d-dfcc-49d6-850f-a778577bc30a"
      },
      "source": [
        "my_train[my_train['region']== 'Mwanza']"
      ],
      "execution_count": 0,
      "outputs": [
        {
          "output_type": "execute_result",
          "data": {
            "text/html": [
              "<div>\n",
              "<style scoped>\n",
              "    .dataframe tbody tr th:only-of-type {\n",
              "        vertical-align: middle;\n",
              "    }\n",
              "\n",
              "    .dataframe tbody tr th {\n",
              "        vertical-align: top;\n",
              "    }\n",
              "\n",
              "    .dataframe thead th {\n",
              "        text-align: right;\n",
              "    }\n",
              "</style>\n",
              "<table border=\"1\" class=\"dataframe\">\n",
              "  <thead>\n",
              "    <tr style=\"text-align: right;\">\n",
              "      <th></th>\n",
              "      <th>id</th>\n",
              "      <th>amount_tsh</th>\n",
              "      <th>date_recorded</th>\n",
              "      <th>funder</th>\n",
              "      <th>gps_height</th>\n",
              "      <th>installer</th>\n",
              "      <th>longitude</th>\n",
              "      <th>latitude</th>\n",
              "      <th>wpt_name</th>\n",
              "      <th>num_private</th>\n",
              "      <th>...</th>\n",
              "      <th>water_quality</th>\n",
              "      <th>quality_group</th>\n",
              "      <th>quantity</th>\n",
              "      <th>quantity_group</th>\n",
              "      <th>source</th>\n",
              "      <th>source_type</th>\n",
              "      <th>source_class</th>\n",
              "      <th>waterpoint_type</th>\n",
              "      <th>waterpoint_type_group</th>\n",
              "      <th>status_group</th>\n",
              "    </tr>\n",
              "  </thead>\n",
              "  <tbody>\n",
              "    <tr>\n",
              "      <td>3353</td>\n",
              "      <td>41817</td>\n",
              "      <td>0.0</td>\n",
              "      <td>2011-07-21</td>\n",
              "      <td>NaN</td>\n",
              "      <td>1183</td>\n",
              "      <td>NaN</td>\n",
              "      <td>33.111956</td>\n",
              "      <td>-2.125932e+00</td>\n",
              "      <td>Office</td>\n",
              "      <td>0</td>\n",
              "      <td>...</td>\n",
              "      <td>unknown</td>\n",
              "      <td>unknown</td>\n",
              "      <td>unknown</td>\n",
              "      <td>unknown</td>\n",
              "      <td>unknown</td>\n",
              "      <td>other</td>\n",
              "      <td>unknown</td>\n",
              "      <td>hand pump</td>\n",
              "      <td>hand pump</td>\n",
              "      <td>non functional</td>\n",
              "    </tr>\n",
              "    <tr>\n",
              "      <td>16640</td>\n",
              "      <td>64071</td>\n",
              "      <td>0.0</td>\n",
              "      <td>2011-08-08</td>\n",
              "      <td>Hesawa</td>\n",
              "      <td>1149</td>\n",
              "      <td>DWE</td>\n",
              "      <td>33.020814</td>\n",
              "      <td>-1.870797e+00</td>\n",
              "      <td>Church</td>\n",
              "      <td>0</td>\n",
              "      <td>...</td>\n",
              "      <td>soft</td>\n",
              "      <td>good</td>\n",
              "      <td>insufficient</td>\n",
              "      <td>insufficient</td>\n",
              "      <td>shallow well</td>\n",
              "      <td>shallow well</td>\n",
              "      <td>groundwater</td>\n",
              "      <td>hand pump</td>\n",
              "      <td>hand pump</td>\n",
              "      <td>functional</td>\n",
              "    </tr>\n",
              "    <tr>\n",
              "      <td>26365</td>\n",
              "      <td>24605</td>\n",
              "      <td>0.0</td>\n",
              "      <td>2011-07-18</td>\n",
              "      <td>Hesawa</td>\n",
              "      <td>0</td>\n",
              "      <td>DWE</td>\n",
              "      <td>33.251206</td>\n",
              "      <td>-2.536370e+00</td>\n",
              "      <td>Dyuya</td>\n",
              "      <td>0</td>\n",
              "      <td>...</td>\n",
              "      <td>soft</td>\n",
              "      <td>good</td>\n",
              "      <td>insufficient</td>\n",
              "      <td>insufficient</td>\n",
              "      <td>spring</td>\n",
              "      <td>spring</td>\n",
              "      <td>groundwater</td>\n",
              "      <td>other</td>\n",
              "      <td>other</td>\n",
              "      <td>non functional</td>\n",
              "    </tr>\n",
              "    <tr>\n",
              "      <td>51183</td>\n",
              "      <td>2206</td>\n",
              "      <td>0.0</td>\n",
              "      <td>2011-07-28</td>\n",
              "      <td>Government Of Tanzania</td>\n",
              "      <td>0</td>\n",
              "      <td>Government</td>\n",
              "      <td>0.000000</td>\n",
              "      <td>-2.000000e-08</td>\n",
              "      <td>Mahakama</td>\n",
              "      <td>0</td>\n",
              "      <td>...</td>\n",
              "      <td>unknown</td>\n",
              "      <td>unknown</td>\n",
              "      <td>dry</td>\n",
              "      <td>dry</td>\n",
              "      <td>dam</td>\n",
              "      <td>dam</td>\n",
              "      <td>surface</td>\n",
              "      <td>communal standpipe multiple</td>\n",
              "      <td>communal standpipe</td>\n",
              "      <td>non functional</td>\n",
              "    </tr>\n",
              "    <tr>\n",
              "      <td>52506</td>\n",
              "      <td>8245</td>\n",
              "      <td>0.0</td>\n",
              "      <td>2011-08-08</td>\n",
              "      <td>Hesawa</td>\n",
              "      <td>0</td>\n",
              "      <td>DWE</td>\n",
              "      <td>33.515992</td>\n",
              "      <td>-2.651120e+00</td>\n",
              "      <td>Mwabashola</td>\n",
              "      <td>0</td>\n",
              "      <td>...</td>\n",
              "      <td>soft</td>\n",
              "      <td>good</td>\n",
              "      <td>enough</td>\n",
              "      <td>enough</td>\n",
              "      <td>shallow well</td>\n",
              "      <td>shallow well</td>\n",
              "      <td>groundwater</td>\n",
              "      <td>other</td>\n",
              "      <td>other</td>\n",
              "      <td>non functional</td>\n",
              "    </tr>\n",
              "    <tr>\n",
              "      <td>...</td>\n",
              "      <td>...</td>\n",
              "      <td>...</td>\n",
              "      <td>...</td>\n",
              "      <td>...</td>\n",
              "      <td>...</td>\n",
              "      <td>...</td>\n",
              "      <td>...</td>\n",
              "      <td>...</td>\n",
              "      <td>...</td>\n",
              "      <td>...</td>\n",
              "      <td>...</td>\n",
              "      <td>...</td>\n",
              "      <td>...</td>\n",
              "      <td>...</td>\n",
              "      <td>...</td>\n",
              "      <td>...</td>\n",
              "      <td>...</td>\n",
              "      <td>...</td>\n",
              "      <td>...</td>\n",
              "      <td>...</td>\n",
              "      <td>...</td>\n",
              "    </tr>\n",
              "    <tr>\n",
              "      <td>18963</td>\n",
              "      <td>41164</td>\n",
              "      <td>0.0</td>\n",
              "      <td>2011-07-25</td>\n",
              "      <td>Bkhws</td>\n",
              "      <td>0</td>\n",
              "      <td>BKHWS</td>\n",
              "      <td>32.919408</td>\n",
              "      <td>-2.711763e+00</td>\n",
              "      <td>Loundy</td>\n",
              "      <td>0</td>\n",
              "      <td>...</td>\n",
              "      <td>soft</td>\n",
              "      <td>good</td>\n",
              "      <td>enough</td>\n",
              "      <td>enough</td>\n",
              "      <td>lake</td>\n",
              "      <td>river/lake</td>\n",
              "      <td>surface</td>\n",
              "      <td>communal standpipe</td>\n",
              "      <td>communal standpipe</td>\n",
              "      <td>non functional</td>\n",
              "    </tr>\n",
              "    <tr>\n",
              "      <td>49091</td>\n",
              "      <td>60405</td>\n",
              "      <td>0.0</td>\n",
              "      <td>2011-07-28</td>\n",
              "      <td>Hesawa</td>\n",
              "      <td>0</td>\n",
              "      <td>HESAWA</td>\n",
              "      <td>32.980052</td>\n",
              "      <td>-2.658572e+00</td>\n",
              "      <td>Kwa Kilo</td>\n",
              "      <td>0</td>\n",
              "      <td>...</td>\n",
              "      <td>soft</td>\n",
              "      <td>good</td>\n",
              "      <td>enough</td>\n",
              "      <td>enough</td>\n",
              "      <td>shallow well</td>\n",
              "      <td>shallow well</td>\n",
              "      <td>groundwater</td>\n",
              "      <td>other</td>\n",
              "      <td>other</td>\n",
              "      <td>functional</td>\n",
              "    </tr>\n",
              "    <tr>\n",
              "      <td>44103</td>\n",
              "      <td>28939</td>\n",
              "      <td>0.0</td>\n",
              "      <td>2011-07-30</td>\n",
              "      <td>Hesawa</td>\n",
              "      <td>0</td>\n",
              "      <td>DWE</td>\n",
              "      <td>33.048568</td>\n",
              "      <td>-2.460987e+00</td>\n",
              "      <td>Kwa Dundo</td>\n",
              "      <td>0</td>\n",
              "      <td>...</td>\n",
              "      <td>soft</td>\n",
              "      <td>good</td>\n",
              "      <td>enough</td>\n",
              "      <td>enough</td>\n",
              "      <td>shallow well</td>\n",
              "      <td>shallow well</td>\n",
              "      <td>groundwater</td>\n",
              "      <td>other</td>\n",
              "      <td>other</td>\n",
              "      <td>non functional</td>\n",
              "    </tr>\n",
              "    <tr>\n",
              "      <td>41317</td>\n",
              "      <td>47225</td>\n",
              "      <td>0.0</td>\n",
              "      <td>2011-07-30</td>\n",
              "      <td>Unicef</td>\n",
              "      <td>0</td>\n",
              "      <td>Maswi</td>\n",
              "      <td>33.069096</td>\n",
              "      <td>-2.431699e+00</td>\n",
              "      <td>Kwa Matayo</td>\n",
              "      <td>0</td>\n",
              "      <td>...</td>\n",
              "      <td>soft</td>\n",
              "      <td>good</td>\n",
              "      <td>enough</td>\n",
              "      <td>enough</td>\n",
              "      <td>machine dbh</td>\n",
              "      <td>borehole</td>\n",
              "      <td>groundwater</td>\n",
              "      <td>hand pump</td>\n",
              "      <td>hand pump</td>\n",
              "      <td>functional</td>\n",
              "    </tr>\n",
              "    <tr>\n",
              "      <td>8172</td>\n",
              "      <td>13409</td>\n",
              "      <td>0.0</td>\n",
              "      <td>2013-02-16</td>\n",
              "      <td>Pmo</td>\n",
              "      <td>0</td>\n",
              "      <td>DWE</td>\n",
              "      <td>0.000000</td>\n",
              "      <td>-2.000000e-08</td>\n",
              "      <td>Muungano</td>\n",
              "      <td>0</td>\n",
              "      <td>...</td>\n",
              "      <td>soft</td>\n",
              "      <td>good</td>\n",
              "      <td>enough</td>\n",
              "      <td>enough</td>\n",
              "      <td>shallow well</td>\n",
              "      <td>shallow well</td>\n",
              "      <td>groundwater</td>\n",
              "      <td>hand pump</td>\n",
              "      <td>hand pump</td>\n",
              "      <td>functional needs repair</td>\n",
              "    </tr>\n",
              "  </tbody>\n",
              "</table>\n",
              "<p>2313 rows × 41 columns</p>\n",
              "</div>"
            ],
            "text/plain": [
              "          id  amount_tsh date_recorded                  funder  gps_height  \\\n",
              "3353   41817         0.0    2011-07-21                     NaN        1183   \n",
              "16640  64071         0.0    2011-08-08                  Hesawa        1149   \n",
              "26365  24605         0.0    2011-07-18                  Hesawa           0   \n",
              "51183   2206         0.0    2011-07-28  Government Of Tanzania           0   \n",
              "52506   8245         0.0    2011-08-08                  Hesawa           0   \n",
              "...      ...         ...           ...                     ...         ...   \n",
              "18963  41164         0.0    2011-07-25                   Bkhws           0   \n",
              "49091  60405         0.0    2011-07-28                  Hesawa           0   \n",
              "44103  28939         0.0    2011-07-30                  Hesawa           0   \n",
              "41317  47225         0.0    2011-07-30                  Unicef           0   \n",
              "8172   13409         0.0    2013-02-16                     Pmo           0   \n",
              "\n",
              "        installer  longitude      latitude    wpt_name  num_private  ...  \\\n",
              "3353          NaN  33.111956 -2.125932e+00      Office            0  ...   \n",
              "16640         DWE  33.020814 -1.870797e+00      Church            0  ...   \n",
              "26365         DWE  33.251206 -2.536370e+00       Dyuya            0  ...   \n",
              "51183  Government   0.000000 -2.000000e-08    Mahakama            0  ...   \n",
              "52506         DWE  33.515992 -2.651120e+00  Mwabashola            0  ...   \n",
              "...           ...        ...           ...         ...          ...  ...   \n",
              "18963       BKHWS  32.919408 -2.711763e+00      Loundy            0  ...   \n",
              "49091      HESAWA  32.980052 -2.658572e+00    Kwa Kilo            0  ...   \n",
              "44103         DWE  33.048568 -2.460987e+00   Kwa Dundo            0  ...   \n",
              "41317       Maswi  33.069096 -2.431699e+00  Kwa Matayo            0  ...   \n",
              "8172          DWE   0.000000 -2.000000e-08    Muungano            0  ...   \n",
              "\n",
              "      water_quality quality_group      quantity  quantity_group        source  \\\n",
              "3353        unknown       unknown       unknown         unknown       unknown   \n",
              "16640          soft          good  insufficient    insufficient  shallow well   \n",
              "26365          soft          good  insufficient    insufficient        spring   \n",
              "51183       unknown       unknown           dry             dry           dam   \n",
              "52506          soft          good        enough          enough  shallow well   \n",
              "...             ...           ...           ...             ...           ...   \n",
              "18963          soft          good        enough          enough          lake   \n",
              "49091          soft          good        enough          enough  shallow well   \n",
              "44103          soft          good        enough          enough  shallow well   \n",
              "41317          soft          good        enough          enough   machine dbh   \n",
              "8172           soft          good        enough          enough  shallow well   \n",
              "\n",
              "        source_type source_class              waterpoint_type  \\\n",
              "3353          other      unknown                    hand pump   \n",
              "16640  shallow well  groundwater                    hand pump   \n",
              "26365        spring  groundwater                        other   \n",
              "51183           dam      surface  communal standpipe multiple   \n",
              "52506  shallow well  groundwater                        other   \n",
              "...             ...          ...                          ...   \n",
              "18963    river/lake      surface           communal standpipe   \n",
              "49091  shallow well  groundwater                        other   \n",
              "44103  shallow well  groundwater                        other   \n",
              "41317      borehole  groundwater                    hand pump   \n",
              "8172   shallow well  groundwater                    hand pump   \n",
              "\n",
              "      waterpoint_type_group             status_group  \n",
              "3353              hand pump           non functional  \n",
              "16640             hand pump               functional  \n",
              "26365                 other           non functional  \n",
              "51183    communal standpipe           non functional  \n",
              "52506                 other           non functional  \n",
              "...                     ...                      ...  \n",
              "18963    communal standpipe           non functional  \n",
              "49091                 other               functional  \n",
              "44103                 other           non functional  \n",
              "41317             hand pump               functional  \n",
              "8172              hand pump  functional needs repair  \n",
              "\n",
              "[2313 rows x 41 columns]"
            ]
          },
          "metadata": {
            "tags": []
          },
          "execution_count": 262
        }
      ]
    },
    {
      "cell_type": "code",
      "metadata": {
        "id": "avQGe8Jn7Gbi",
        "colab_type": "code",
        "colab": {}
      },
      "source": [
        "import numpy as np\n",
        "def wrangle(X):\n",
        "  \n",
        "  # To prevent copy warnings\n",
        "  X = X.copy()\n",
        "\n",
        "  # Latitude is strange in that it doesn't have any 0s, but it does have these\n",
        "  # near-0 values\n",
        "  X['latitude'] = X['latitude'].replace(-2e-08, 0)\n",
        "\n",
        "  # there are numeric columns with 0s that should be nana\n",
        "  nans_as_zeros = ['latitude','longitude', 'construction_year',\n",
        "                   'gps_height', 'population']\n",
        "  for column in nans_as_zeros:\n",
        "    X[column] = X[column].replace(0, np.nan)\n",
        "    #I like this code Ryan had to make a new column for if its missing data\n",
        "    X[column+'_MISSING'] = X[column].isnull()\n",
        "  \n",
        "  # X['longitude'] = X.apply(\n",
        "  #   lambda row: np.mean(Mwanza['longitude']) if np.isnan(row['longitude']) and row['region'] == 'Mwanza' else row['longitude'],\n",
        "  #   axis=1)\n",
        "  # X['longitude'] = X.apply(\n",
        "  #   lambda row: np.mean(Shinyanga['longitude']) if np.isnan(row['longitude']) and row['region'] == 'Shinyanga' else row['longitude'],\n",
        "  #   axis=1)\n",
        "\n",
        "\n",
        "  # X['latitude'] = X.apply(\n",
        "  #   lambda row: np.mean(Mwanza['latitude']) if np.isnan(row['latitude']) and row['region'] == 'Mwanza' else row['latitude'],\n",
        "  #   axis=1)\n",
        "  # X['latitude'] = X.apply(\n",
        "  #   lambda row: np.mean(Shinyanga['latitude']) if np.isnan(row['latitude']) and row['region'] == 'Shinyanga' else row['latitude'],\n",
        "  #   axis=1)\n",
        "  \n",
        "  #Date recorded is treated as an int. Extracting y/m/d\n",
        "  X['date_recorded'] = pd.to_datetime(X['date_recorded'])\n",
        "  X['year_recorded'] = X['date_recorded'].dt.year\n",
        "#   X['month_recorded'] = X['date_recorded'].dt.month\n",
        "#   X['day_recorded'] = X['date_recorded'].dt.day\n",
        "  X = X.drop(columns='date_recorded')\n",
        "\n",
        "  #Removing duplicate or near-duplicate columns\n",
        "  #X = X.drop(columns=duplicates_to_drop)\n",
        "\n",
        "  #Can be used for each train and validation\n",
        "  return X"
      ],
      "execution_count": 0,
      "outputs": []
    },
    {
      "cell_type": "code",
      "metadata": {
        "id": "bnsNamcK7Gbl",
        "colab_type": "code",
        "colab": {},
        "outputId": "2f5d8c7f-190a-4a1c-f009-294b483727ef"
      },
      "source": [
        "%%time\n",
        "my_train = wrangle(my_train)\n",
        "my_val = wrangle(my_val)\n",
        "test = wrangle(test)"
      ],
      "execution_count": 0,
      "outputs": [
        {
          "output_type": "stream",
          "text": [
            "Wall time: 198 ms\n"
          ],
          "name": "stdout"
        }
      ]
    },
    {
      "cell_type": "code",
      "metadata": {
        "id": "vv74rlYT7Gbp",
        "colab_type": "code",
        "colab": {},
        "outputId": "30e5d7e6-6fb8-4ceb-9c22-7756c821ce05"
      },
      "source": [
        "my_train['longitude'].value_counts()"
      ],
      "execution_count": 0,
      "outputs": [
        {
          "output_type": "execute_result",
          "data": {
            "text/plain": [
              "39.103752    2\n",
              "39.096499    2\n",
              "37.530515    2\n",
              "37.339811    2\n",
              "37.542785    2\n",
              "            ..\n",
              "31.701989    1\n",
              "37.131667    1\n",
              "34.607110    1\n",
              "33.076362    1\n",
              "35.005922    1\n",
              "Name: longitude, Length: 43123, dtype: int64"
            ]
          },
          "metadata": {
            "tags": []
          },
          "execution_count": 265
        }
      ]
    },
    {
      "cell_type": "code",
      "metadata": {
        "id": "3WcD3n5d7Gbu",
        "colab_type": "code",
        "colab": {},
        "outputId": "7c58230b-331e-4de4-9dbd-ca3931eeb5a8"
      },
      "source": [
        "my_train[my_train['id']== 6091]"
      ],
      "execution_count": 0,
      "outputs": [
        {
          "output_type": "execute_result",
          "data": {
            "text/html": [
              "<div>\n",
              "<style scoped>\n",
              "    .dataframe tbody tr th:only-of-type {\n",
              "        vertical-align: middle;\n",
              "    }\n",
              "\n",
              "    .dataframe tbody tr th {\n",
              "        vertical-align: top;\n",
              "    }\n",
              "\n",
              "    .dataframe thead th {\n",
              "        text-align: right;\n",
              "    }\n",
              "</style>\n",
              "<table border=\"1\" class=\"dataframe\">\n",
              "  <thead>\n",
              "    <tr style=\"text-align: right;\">\n",
              "      <th></th>\n",
              "      <th>id</th>\n",
              "      <th>amount_tsh</th>\n",
              "      <th>funder</th>\n",
              "      <th>gps_height</th>\n",
              "      <th>installer</th>\n",
              "      <th>longitude</th>\n",
              "      <th>latitude</th>\n",
              "      <th>wpt_name</th>\n",
              "      <th>num_private</th>\n",
              "      <th>basin</th>\n",
              "      <th>...</th>\n",
              "      <th>source_class</th>\n",
              "      <th>waterpoint_type</th>\n",
              "      <th>waterpoint_type_group</th>\n",
              "      <th>status_group</th>\n",
              "      <th>latitude_MISSING</th>\n",
              "      <th>longitude_MISSING</th>\n",
              "      <th>construction_year_MISSING</th>\n",
              "      <th>gps_height_MISSING</th>\n",
              "      <th>population_MISSING</th>\n",
              "      <th>year_recorded</th>\n",
              "    </tr>\n",
              "  </thead>\n",
              "  <tbody>\n",
              "  </tbody>\n",
              "</table>\n",
              "<p>0 rows × 46 columns</p>\n",
              "</div>"
            ],
            "text/plain": [
              "Empty DataFrame\n",
              "Columns: [id, amount_tsh, funder, gps_height, installer, longitude, latitude, wpt_name, num_private, basin, subvillage, region, region_code, district_code, lga, ward, population, public_meeting, recorded_by, scheme_management, scheme_name, permit, construction_year, extraction_type, extraction_type_group, extraction_type_class, management, management_group, payment, payment_type, water_quality, quality_group, quantity, quantity_group, source, source_type, source_class, waterpoint_type, waterpoint_type_group, status_group, latitude_MISSING, longitude_MISSING, construction_year_MISSING, gps_height_MISSING, population_MISSING, year_recorded]\n",
              "Index: []\n",
              "\n",
              "[0 rows x 46 columns]"
            ]
          },
          "metadata": {
            "tags": []
          },
          "execution_count": 266
        }
      ]
    },
    {
      "cell_type": "code",
      "metadata": {
        "id": "Q-PqfcBz7Gby",
        "colab_type": "code",
        "colab": {}
      },
      "source": [
        "# # Copied from previous assignment. \n",
        "# # Unecessary because high cardinality features are fine\n",
        "\n",
        "# # # Selecting target\n",
        "\n",
        "# target = 'status_group'\n",
        "\n",
        "# #Removing the target and useless id columns\n",
        "# train_columns = my_train.drop(columns=[target,'id'])\n",
        "\n",
        "# # separating numeric columns to readd after\n",
        "# numeric_columns = train_columns.select_dtypes(include='number').columns.tolist()\n",
        "\n",
        "# #Getting a list of cardinality for categorical features to exclude the large\n",
        "# cardinality = train_columns.select_dtypes(exclude='number').nunique()\n",
        "\n",
        "# #Excluding features with a cardinality over 50\n",
        "# categorical_columns = cardinality[cardinality <50].index.tolist()\n",
        "\n",
        "# #combining lists to get the features I will use for my model\n",
        "# features = numeric_columns + categorical_columns"
      ],
      "execution_count": 0,
      "outputs": []
    },
    {
      "cell_type": "code",
      "metadata": {
        "id": "f0KBQ9ix7Gb1",
        "colab_type": "code",
        "colab": {}
      },
      "source": [
        "# We can use high cardinality features, so no need to remove them\n",
        "target = 'status_group'\n",
        "\n",
        "features = my_train.drop(columns=[target,'id']).columns"
      ],
      "execution_count": 0,
      "outputs": []
    },
    {
      "cell_type": "code",
      "metadata": {
        "id": "ZRmWh4vo7Gb7",
        "colab_type": "code",
        "colab": {}
      },
      "source": [
        "#Assigning variables\n",
        "\n",
        "X_train = my_train[features]\n",
        "y_train = my_train[target]\n",
        "\n",
        "X_val = my_val[features]\n",
        "y_val = my_val[target]\n",
        "\n",
        "X_test = test[features]"
      ],
      "execution_count": 0,
      "outputs": []
    },
    {
      "cell_type": "code",
      "metadata": {
        "id": "2ReUKjf57Gb-",
        "colab_type": "code",
        "colab": {}
      },
      "source": [
        "import category_encoders as ce\n",
        "from sklearn.impute import SimpleImputer\n",
        "from sklearn.ensemble import RandomForestClassifier\n",
        "from sklearn.pipeline import make_pipeline\n",
        "\n",
        "# Making a pipeline to encode, impute, then classify the data using decisiontree\n",
        "my_pipeline = make_pipeline(\n",
        "    ce.OrdinalEncoder(),\n",
        "    SimpleImputer(strategy='median'),\n",
        "    RandomForestClassifier(n_estimators=100, random_state=333, n_jobs=-1,\n",
        "                           max_depth=20)\n",
        ")\n"
      ],
      "execution_count": 0,
      "outputs": []
    },
    {
      "cell_type": "code",
      "metadata": {
        "id": "53oRv2Rm7GcA",
        "colab_type": "code",
        "colab": {},
        "outputId": "b0552e35-dc7d-4a7a-a94e-925bd90357fe"
      },
      "source": [
        "my_pipeline.fit(X_train,y_train)"
      ],
      "execution_count": 0,
      "outputs": [
        {
          "output_type": "execute_result",
          "data": {
            "text/plain": [
              "Pipeline(memory=None,\n",
              "         steps=[('ordinalencoder',\n",
              "                 OrdinalEncoder(cols=['funder', 'installer', 'wpt_name',\n",
              "                                      'basin', 'subvillage', 'region', 'lga',\n",
              "                                      'ward', 'public_meeting', 'recorded_by',\n",
              "                                      'scheme_management', 'scheme_name',\n",
              "                                      'permit', 'extraction_type',\n",
              "                                      'extraction_type_group',\n",
              "                                      'extraction_type_class', 'management',\n",
              "                                      'management_group', 'payment',\n",
              "                                      'payment_type', 'water_qual...\n",
              "                ('randomforestclassifier',\n",
              "                 RandomForestClassifier(bootstrap=True, class_weight=None,\n",
              "                                        criterion='gini', max_depth=20,\n",
              "                                        max_features='auto',\n",
              "                                        max_leaf_nodes=None,\n",
              "                                        min_impurity_decrease=0.0,\n",
              "                                        min_impurity_split=None,\n",
              "                                        min_samples_leaf=1, min_samples_split=2,\n",
              "                                        min_weight_fraction_leaf=0.0,\n",
              "                                        n_estimators=100, n_jobs=-1,\n",
              "                                        oob_score=False, random_state=333,\n",
              "                                        verbose=0, warm_start=False))],\n",
              "         verbose=False)"
            ]
          },
          "metadata": {
            "tags": []
          },
          "execution_count": 271
        }
      ]
    },
    {
      "cell_type": "code",
      "metadata": {
        "id": "vcQEDaqL7GcD",
        "colab_type": "code",
        "colab": {},
        "outputId": "c9e44a42-e595-468b-b127-7389e709c08b"
      },
      "source": [
        "my_pipeline.score(X_val,y_val)"
      ],
      "execution_count": 0,
      "outputs": [
        {
          "output_type": "execute_result",
          "data": {
            "text/plain": [
              "0.805993265993266"
            ]
          },
          "metadata": {
            "tags": []
          },
          "execution_count": 272
        }
      ]
    },
    {
      "cell_type": "code",
      "metadata": {
        "id": "ZC3YMrWg7GcG",
        "colab_type": "code",
        "colab": {}
      },
      "source": [
        ""
      ],
      "execution_count": 0,
      "outputs": []
    },
    {
      "cell_type": "code",
      "metadata": {
        "id": "g1X672zu7GcJ",
        "colab_type": "code",
        "colab": {}
      },
      "source": [
        "max_depth_scores = []\n",
        "def pipeline_differing_max_depth(n):\n",
        "  for num in range(13,n):\n",
        "    my_pipeline = make_pipeline(\n",
        "    ce.OrdinalEncoder(),\n",
        "    SimpleImputer(strategy='median'),\n",
        "    RandomForestClassifier(n_estimators=100, random_state=333, n_jobs=-1,\n",
        "                           max_depth=num)\n",
        "    )\n",
        "    my_pipeline.fit(X_train,y_train)\n",
        "    max_depth_scores.append({num:my_pipeline.score(X_val,y_val)})\n"
      ],
      "execution_count": 0,
      "outputs": []
    },
    {
      "cell_type": "code",
      "metadata": {
        "id": "zfsvMk3c7GcM",
        "colab_type": "code",
        "colab": {},
        "outputId": "20805525-f544-4e28-c264-f0bb00918eac"
      },
      "source": [
        "%%time\n",
        "pipeline_differing_max_depth(23)"
      ],
      "execution_count": 0,
      "outputs": [
        {
          "output_type": "stream",
          "text": [
            "Wall time: 1min 4s\n"
          ],
          "name": "stdout"
        }
      ]
    },
    {
      "cell_type": "code",
      "metadata": {
        "id": "cqAqya1N7GcP",
        "colab_type": "code",
        "colab": {},
        "outputId": "1b44a7c3-318c-4c3b-f4ee-8bb146a9261d"
      },
      "source": [
        "#Looks like 20 is the best\n",
        "max_depth_scores"
      ],
      "execution_count": 0,
      "outputs": [
        {
          "output_type": "execute_result",
          "data": {
            "text/plain": [
              "[{13: 0.78996632996633},\n",
              " {14: 0.7950841750841751},\n",
              " {15: 0.7968350168350168},\n",
              " {16: 0.8021548821548822},\n",
              " {17: 0.8037710437710438},\n",
              " {18: 0.8036363636363636},\n",
              " {19: 0.8048484848484848},\n",
              " {20: 0.805993265993266},\n",
              " {21: 0.8045117845117845},\n",
              " {22: 0.8044444444444444}]"
            ]
          },
          "metadata": {
            "tags": []
          },
          "execution_count": 275
        }
      ]
    },
    {
      "cell_type": "markdown",
      "metadata": {
        "id": "5ke_zSxz7GcS",
        "colab_type": "text"
      },
      "source": [
        "### Assignment 3 code"
      ]
    },
    {
      "cell_type": "markdown",
      "metadata": {
        "id": "1g1E-w_i7SSx",
        "colab_type": "text"
      },
      "source": [
        ""
      ]
    },
    {
      "cell_type": "code",
      "metadata": {
        "id": "hLQMzhoa7GcT",
        "colab_type": "code",
        "colab": {}
      },
      "source": [
        "from scipy.stats import randint, uniform\n",
        "from sklearn.model_selection import GridSearchCV, RandomizedSearchCV\n"
      ],
      "execution_count": 0,
      "outputs": []
    },
    {
      "cell_type": "code",
      "metadata": {
        "id": "EEY0mek47GcW",
        "colab_type": "code",
        "colab": {},
        "outputId": "0a948bcb-836f-4e2f-ea39-46f677e4f42a"
      },
      "source": [
        "%%time\n",
        "\n",
        "my_pipeline = make_pipeline(\n",
        "    ce.OrdinalEncoder(), \n",
        "    SimpleImputer(strategy='median'), \n",
        "    RandomForestClassifier(random_state=333, max_depth=20)\n",
        ")\n",
        "\n",
        "param_distributions = {\n",
        "    'randomforestclassifier__n_estimators': randint(100, 200),\n",
        "}\n",
        "\n",
        "search = RandomizedSearchCV(\n",
        "    my_pipeline,\n",
        "    param_distributions=param_distributions,\n",
        "    n_iter=10,\n",
        "    cv=3,\n",
        "    scoring='accuracy',\n",
        "    verbose=10,\n",
        "    return_train_score=False,\n",
        "    n_jobs=-1\n",
        ")"
      ],
      "execution_count": 0,
      "outputs": [
        {
          "output_type": "stream",
          "text": [
            "Wall time: 1e+03 µs\n"
          ],
          "name": "stdout"
        }
      ]
    },
    {
      "cell_type": "code",
      "metadata": {
        "id": "uZS2eY2_7GcZ",
        "colab_type": "code",
        "colab": {},
        "outputId": "82f85290-3402-4671-f5c3-442859a3ec44"
      },
      "source": [
        "search.fit(X_train,y_train)"
      ],
      "execution_count": 0,
      "outputs": [
        {
          "output_type": "stream",
          "text": [
            "Fitting 3 folds for each of 10 candidates, totalling 30 fits\n"
          ],
          "name": "stdout"
        },
        {
          "output_type": "stream",
          "text": [
            "[Parallel(n_jobs=-1)]: Using backend LokyBackend with 4 concurrent workers.\n",
            "[Parallel(n_jobs=-1)]: Done   5 tasks      | elapsed:   34.8s\n",
            "[Parallel(n_jobs=-1)]: Done  10 tasks      | elapsed:   59.2s\n",
            "[Parallel(n_jobs=-1)]: Done  17 tasks      | elapsed:  1.5min\n",
            "[Parallel(n_jobs=-1)]: Done  27 out of  30 | elapsed:  2.1min remaining:   14.1s\n",
            "[Parallel(n_jobs=-1)]: Done  30 out of  30 | elapsed:  2.3min finished\n"
          ],
          "name": "stderr"
        },
        {
          "output_type": "execute_result",
          "data": {
            "text/plain": [
              "RandomizedSearchCV(cv=3, error_score='raise-deprecating',\n",
              "                   estimator=Pipeline(memory=None,\n",
              "                                      steps=[('ordinalencoder',\n",
              "                                              OrdinalEncoder(cols=None,\n",
              "                                                             drop_invariant=False,\n",
              "                                                             handle_missing='value',\n",
              "                                                             handle_unknown='value',\n",
              "                                                             mapping=None,\n",
              "                                                             return_df=True,\n",
              "                                                             verbose=0)),\n",
              "                                             ('simpleimputer',\n",
              "                                              SimpleImputer(add_indicator=False,\n",
              "                                                            copy=True,\n",
              "                                                            fill_value=None,\n",
              "                                                            missing_values=nan,\n",
              "                                                            strategy='...\n",
              "                                                                     oob_score=False,\n",
              "                                                                     random_state=333,\n",
              "                                                                     verbose=0,\n",
              "                                                                     warm_start=False))],\n",
              "                                      verbose=False),\n",
              "                   iid='warn', n_iter=10, n_jobs=-1,\n",
              "                   param_distributions={'randomforestclassifier__n_estimators': <scipy.stats._distn_infrastructure.rv_frozen object at 0x000000000FF38B48>},\n",
              "                   pre_dispatch='2*n_jobs', random_state=None, refit=True,\n",
              "                   return_train_score=False, scoring='accuracy', verbose=10)"
            ]
          },
          "metadata": {
            "tags": []
          },
          "execution_count": 278
        }
      ]
    },
    {
      "cell_type": "code",
      "metadata": {
        "id": "R781VHV97Gcd",
        "colab_type": "code",
        "colab": {},
        "outputId": "6a9ddbed-fac8-4575-f1a2-c2488ea76a08"
      },
      "source": [
        "search.best_score_"
      ],
      "execution_count": 0,
      "outputs": [
        {
          "output_type": "execute_result",
          "data": {
            "text/plain": [
              "0.8044893378226712"
            ]
          },
          "metadata": {
            "tags": []
          },
          "execution_count": 279
        }
      ]
    },
    {
      "cell_type": "code",
      "metadata": {
        "id": "eLLxfxa57Gcg",
        "colab_type": "code",
        "colab": {},
        "outputId": "ce16a60a-258d-469e-ba9f-0e1cbaf648a1"
      },
      "source": [
        "search.best_params_"
      ],
      "execution_count": 0,
      "outputs": [
        {
          "output_type": "execute_result",
          "data": {
            "text/plain": [
              "{'randomforestclassifier__n_estimators': 191}"
            ]
          },
          "metadata": {
            "tags": []
          },
          "execution_count": 280
        }
      ]
    },
    {
      "cell_type": "code",
      "metadata": {
        "id": "JfK2pzba7Gcj",
        "colab_type": "code",
        "colab": {},
        "outputId": "7b459403-3ad9-4b24-bb7b-db627f65dd88"
      },
      "source": [
        "search.best_estimator_"
      ],
      "execution_count": 0,
      "outputs": [
        {
          "output_type": "execute_result",
          "data": {
            "text/plain": [
              "Pipeline(memory=None,\n",
              "         steps=[('ordinalencoder',\n",
              "                 OrdinalEncoder(cols=['funder', 'installer', 'wpt_name',\n",
              "                                      'basin', 'subvillage', 'region', 'lga',\n",
              "                                      'ward', 'public_meeting', 'recorded_by',\n",
              "                                      'scheme_management', 'scheme_name',\n",
              "                                      'permit', 'extraction_type',\n",
              "                                      'extraction_type_group',\n",
              "                                      'extraction_type_class', 'management',\n",
              "                                      'management_group', 'payment',\n",
              "                                      'payment_type', 'water_qual...\n",
              "                 RandomForestClassifier(bootstrap=True, class_weight=None,\n",
              "                                        criterion='gini', max_depth=20,\n",
              "                                        max_features='auto',\n",
              "                                        max_leaf_nodes=None,\n",
              "                                        min_impurity_decrease=0.0,\n",
              "                                        min_impurity_split=None,\n",
              "                                        min_samples_leaf=1, min_samples_split=2,\n",
              "                                        min_weight_fraction_leaf=0.0,\n",
              "                                        n_estimators=191, n_jobs=None,\n",
              "                                        oob_score=False, random_state=333,\n",
              "                                        verbose=0, warm_start=False))],\n",
              "         verbose=False)"
            ]
          },
          "metadata": {
            "tags": []
          },
          "execution_count": 281
        }
      ]
    },
    {
      "cell_type": "code",
      "metadata": {
        "id": "BE06fNAL7Gcm",
        "colab_type": "code",
        "colab": {}
      },
      "source": [
        "pipeline = search.best_estimator_"
      ],
      "execution_count": 0,
      "outputs": []
    },
    {
      "cell_type": "code",
      "metadata": {
        "id": "zmw4Xp4C7Gcp",
        "colab_type": "code",
        "colab": {}
      },
      "source": [
        "pred_y_test = pipeline.predict(X_test)"
      ],
      "execution_count": 0,
      "outputs": []
    },
    {
      "cell_type": "code",
      "metadata": {
        "id": "3lKo30D37Gcs",
        "colab_type": "code",
        "colab": {}
      },
      "source": [
        "cv_submission = test.copy()"
      ],
      "execution_count": 0,
      "outputs": []
    },
    {
      "cell_type": "code",
      "metadata": {
        "id": "MTre-ojf7Gcv",
        "colab_type": "code",
        "colab": {}
      },
      "source": [
        "cv_submission['status_group'] = pred_y_test"
      ],
      "execution_count": 0,
      "outputs": []
    },
    {
      "cell_type": "code",
      "metadata": {
        "id": "a5HEoVCj7Gcz",
        "colab_type": "code",
        "colab": {}
      },
      "source": [
        "cv_submission = cv_submission.filter(['id','status_group'])"
      ],
      "execution_count": 0,
      "outputs": []
    },
    {
      "cell_type": "code",
      "metadata": {
        "id": "Ljhs6XVA7Gc2",
        "colab_type": "code",
        "colab": {},
        "outputId": "8aa15bb9-3af9-4a6f-f7f0-6f32caee20ca"
      },
      "source": [
        "cv_submission"
      ],
      "execution_count": 0,
      "outputs": [
        {
          "output_type": "execute_result",
          "data": {
            "text/html": [
              "<div>\n",
              "<style scoped>\n",
              "    .dataframe tbody tr th:only-of-type {\n",
              "        vertical-align: middle;\n",
              "    }\n",
              "\n",
              "    .dataframe tbody tr th {\n",
              "        vertical-align: top;\n",
              "    }\n",
              "\n",
              "    .dataframe thead th {\n",
              "        text-align: right;\n",
              "    }\n",
              "</style>\n",
              "<table border=\"1\" class=\"dataframe\">\n",
              "  <thead>\n",
              "    <tr style=\"text-align: right;\">\n",
              "      <th></th>\n",
              "      <th>id</th>\n",
              "      <th>status_group</th>\n",
              "    </tr>\n",
              "  </thead>\n",
              "  <tbody>\n",
              "    <tr>\n",
              "      <td>0</td>\n",
              "      <td>50785</td>\n",
              "      <td>non functional</td>\n",
              "    </tr>\n",
              "    <tr>\n",
              "      <td>1</td>\n",
              "      <td>51630</td>\n",
              "      <td>functional</td>\n",
              "    </tr>\n",
              "    <tr>\n",
              "      <td>2</td>\n",
              "      <td>17168</td>\n",
              "      <td>functional</td>\n",
              "    </tr>\n",
              "    <tr>\n",
              "      <td>3</td>\n",
              "      <td>45559</td>\n",
              "      <td>non functional</td>\n",
              "    </tr>\n",
              "    <tr>\n",
              "      <td>4</td>\n",
              "      <td>49871</td>\n",
              "      <td>functional</td>\n",
              "    </tr>\n",
              "    <tr>\n",
              "      <td>...</td>\n",
              "      <td>...</td>\n",
              "      <td>...</td>\n",
              "    </tr>\n",
              "    <tr>\n",
              "      <td>14353</td>\n",
              "      <td>39307</td>\n",
              "      <td>non functional</td>\n",
              "    </tr>\n",
              "    <tr>\n",
              "      <td>14354</td>\n",
              "      <td>18990</td>\n",
              "      <td>functional</td>\n",
              "    </tr>\n",
              "    <tr>\n",
              "      <td>14355</td>\n",
              "      <td>28749</td>\n",
              "      <td>functional</td>\n",
              "    </tr>\n",
              "    <tr>\n",
              "      <td>14356</td>\n",
              "      <td>33492</td>\n",
              "      <td>functional</td>\n",
              "    </tr>\n",
              "    <tr>\n",
              "      <td>14357</td>\n",
              "      <td>68707</td>\n",
              "      <td>non functional</td>\n",
              "    </tr>\n",
              "  </tbody>\n",
              "</table>\n",
              "<p>14358 rows × 2 columns</p>\n",
              "</div>"
            ],
            "text/plain": [
              "          id    status_group\n",
              "0      50785  non functional\n",
              "1      51630      functional\n",
              "2      17168      functional\n",
              "3      45559  non functional\n",
              "4      49871      functional\n",
              "...      ...             ...\n",
              "14353  39307  non functional\n",
              "14354  18990      functional\n",
              "14355  28749      functional\n",
              "14356  33492      functional\n",
              "14357  68707  non functional\n",
              "\n",
              "[14358 rows x 2 columns]"
            ]
          },
          "metadata": {
            "tags": []
          },
          "execution_count": 292
        }
      ]
    },
    {
      "cell_type": "code",
      "metadata": {
        "id": "ju0JLzNb7Gc5",
        "colab_type": "code",
        "colab": {}
      },
      "source": [
        "cv_submission.to_csv('cv_submission.csv', index=False)"
      ],
      "execution_count": 0,
      "outputs": []
    },
    {
      "cell_type": "code",
      "metadata": {
        "id": "ckrCgahR7Gc9",
        "colab_type": "code",
        "colab": {},
        "outputId": "c9388fb7-e774-47d7-efdf-506e7bd6919a"
      },
      "source": [
        "pipeline.score(X_val,y_val)"
      ],
      "execution_count": 0,
      "outputs": [
        {
          "output_type": "execute_result",
          "data": {
            "text/plain": [
              "0.8062626262626262"
            ]
          },
          "metadata": {
            "tags": []
          },
          "execution_count": 294
        }
      ]
    },
    {
      "cell_type": "code",
      "metadata": {
        "id": "2ZKcx8wj7GdA",
        "colab_type": "code",
        "colab": {}
      },
      "source": [
        ""
      ],
      "execution_count": 0,
      "outputs": []
    },
    {
      "cell_type": "code",
      "metadata": {
        "id": "Lvx_6P3Y7GdD",
        "colab_type": "code",
        "colab": {}
      },
      "source": [
        ""
      ],
      "execution_count": 0,
      "outputs": []
    },
    {
      "cell_type": "code",
      "metadata": {
        "id": "e5adZt9b7GdH",
        "colab_type": "code",
        "colab": {}
      },
      "source": [
        ""
      ],
      "execution_count": 0,
      "outputs": []
    },
    {
      "cell_type": "code",
      "metadata": {
        "id": "I0ny8JRE7GdJ",
        "colab_type": "code",
        "colab": {},
        "outputId": "e1bd0772-a6e3-4f52-caed-1e5f71a8b0cb"
      },
      "source": [
        "my_pipeline.fit(X_train,y_train)"
      ],
      "execution_count": 0,
      "outputs": [
        {
          "output_type": "execute_result",
          "data": {
            "text/plain": [
              "Pipeline(memory=None,\n",
              "         steps=[('ordinalencoder',\n",
              "                 OrdinalEncoder(cols=['funder', 'installer', 'wpt_name',\n",
              "                                      'basin', 'subvillage', 'region', 'lga',\n",
              "                                      'ward', 'public_meeting', 'recorded_by',\n",
              "                                      'scheme_management', 'scheme_name',\n",
              "                                      'permit', 'extraction_type', 'management',\n",
              "                                      'management_group', 'payment',\n",
              "                                      'water_quality', 'quality_group',\n",
              "                                      'quantity', 'source', 'source_class',\n",
              "                                      'waterp...\n",
              "                ('randomforestclassifier',\n",
              "                 RandomForestClassifier(bootstrap=True, class_weight=None,\n",
              "                                        criterion='gini', max_depth=20,\n",
              "                                        max_features='auto',\n",
              "                                        max_leaf_nodes=None,\n",
              "                                        min_impurity_decrease=0.0,\n",
              "                                        min_impurity_split=None,\n",
              "                                        min_samples_leaf=1, min_samples_split=2,\n",
              "                                        min_weight_fraction_leaf=0.0,\n",
              "                                        n_estimators=100, n_jobs=-1,\n",
              "                                        oob_score=False, random_state=333,\n",
              "                                        verbose=0, warm_start=False))],\n",
              "         verbose=False)"
            ]
          },
          "metadata": {
            "tags": []
          },
          "execution_count": 42
        }
      ]
    },
    {
      "cell_type": "code",
      "metadata": {
        "id": "0oZvlUZY7GdM",
        "colab_type": "code",
        "colab": {},
        "outputId": "69f8f237-648b-444a-d591-2c20768966b6"
      },
      "source": [
        "my_pipeline.score(X_val,y_val)"
      ],
      "execution_count": 0,
      "outputs": [
        {
          "output_type": "execute_result",
          "data": {
            "text/plain": [
              "0.8049158249158249"
            ]
          },
          "metadata": {
            "tags": []
          },
          "execution_count": 43
        }
      ]
    },
    {
      "cell_type": "code",
      "metadata": {
        "id": "lOBW-Tyt7GdP",
        "colab_type": "code",
        "colab": {}
      },
      "source": [
        ""
      ],
      "execution_count": 0,
      "outputs": []
    }
  ]
}