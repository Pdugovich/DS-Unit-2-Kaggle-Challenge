{
  "nbformat": 4,
  "nbformat_minor": 0,
  "metadata": {
    "celltoolbar": "Attachments",
    "kernelspec": {
      "display_name": "Python 3",
      "language": "python",
      "name": "python3"
    },
    "language_info": {
      "codemirror_mode": {
        "name": "ipython",
        "version": 3
      },
      "file_extension": ".py",
      "mimetype": "text/x-python",
      "name": "python",
      "nbconvert_exporter": "python",
      "pygments_lexer": "ipython3",
      "version": "3.7.4"
    },
    "colab": {
      "name": "assignment_kaggle_challenge_4.ipynb",
      "provenance": [],
      "include_colab_link": true
    }
  },
  "cells": [
    {
      "cell_type": "markdown",
      "metadata": {
        "id": "view-in-github",
        "colab_type": "text"
      },
      "source": [
        "<a href=\"https://colab.research.google.com/github/Pdugovich/DS-Unit-2-Kaggle-Challenge/blob/master/module4/assignment_kaggle_challenge_4.ipynb\" target=\"_parent\"><img src=\"https://colab.research.google.com/assets/colab-badge.svg\" alt=\"Open In Colab\"/></a>"
      ]
    },
    {
      "cell_type": "markdown",
      "metadata": {
        "id": "UUkY8kI012BV",
        "colab_type": "text"
      },
      "source": [
        "# Kaggle Assignment 4"
      ]
    },
    {
      "cell_type": "markdown",
      "metadata": {
        "id": "h5rD9y6Y166g",
        "colab_type": "text"
      },
      "source": [
        "## Previous Day's Code\n",
        "\n",
        "Basically unchanged aside from reducing the number of dropped duplicate columns to 'payment_type', 'quantity_group', and 'extraction_type_group'. Of the \"nearly-duplicate\" columns, 'extraction_type_group' was the only one, when removed, that improved my val accuracy.\n",
        "\n",
        "Also added the 'year_difference' column."
      ]
    },
    {
      "cell_type": "code",
      "metadata": {
        "id": "cXu1fwGv12BW",
        "colab_type": "code",
        "colab": {}
      },
      "source": [
        "import sys\n",
        "\n",
        "DATA_PATH = 'https://raw.githubusercontent.com/LambdaSchool/DS-Unit-2-Kaggle-Challenge/master/data/'"
      ],
      "execution_count": 0,
      "outputs": []
    },
    {
      "cell_type": "code",
      "metadata": {
        "id": "K5hVUfLw12Bb",
        "colab_type": "code",
        "colab": {},
        "outputId": "2aeb5098-1752-4314-d1e9-4c6b0a52a041"
      },
      "source": [
        "import numpy as np\n",
        "import pandas as pd\n",
        "from sklearn.model_selection import train_test_split\n",
        "\n",
        "train = pd.merge(pd.read_csv(DATA_PATH+'waterpumps/train_features.csv'), \n",
        "                 pd.read_csv(DATA_PATH+'waterpumps/train_labels.csv'))\n",
        "test = pd.read_csv(DATA_PATH+'waterpumps/test_features.csv')\n",
        "sample_submission = pd.read_csv(DATA_PATH+'waterpumps/sample_submission.csv')\n",
        "\n",
        "train.shape, test.shape"
      ],
      "execution_count": 0,
      "outputs": [
        {
          "output_type": "execute_result",
          "data": {
            "text/plain": [
              "((59400, 41), (14358, 40))"
            ]
          },
          "metadata": {
            "tags": []
          },
          "execution_count": 225
        }
      ]
    },
    {
      "cell_type": "code",
      "metadata": {
        "id": "dTgF8bBg12Bg",
        "colab_type": "code",
        "colab": {},
        "outputId": "50170b0c-d9a8-49ee-968d-004d030696c1"
      },
      "source": [
        "#Checked the average elevation of Tanzania, and it's 1200, so I \n",
        "#really can ignore the zeroes here. But also the lowest elevation is 0,\n",
        "#so I'm a little confused about the negative numbers\n",
        "train['gps_height'].value_counts()"
      ],
      "execution_count": 0,
      "outputs": [
        {
          "output_type": "execute_result",
          "data": {
            "text/plain": [
              " 0       20438\n",
              "-15         60\n",
              "-16         55\n",
              "-13         55\n",
              "-20         52\n",
              "         ...  \n",
              " 2285        1\n",
              " 2424        1\n",
              " 2552        1\n",
              " 2413        1\n",
              " 2385        1\n",
              "Name: gps_height, Length: 2428, dtype: int64"
            ]
          },
          "metadata": {
            "tags": []
          },
          "execution_count": 226
        }
      ]
    },
    {
      "cell_type": "code",
      "metadata": {
        "id": "RS5aMaZc12Bk",
        "colab_type": "code",
        "colab": {}
      },
      "source": [
        "# Numeric Columns to clean\n",
        "numeric_to_clean = ['longitude','latitude','construction_year', 'gps_height']"
      ],
      "execution_count": 0,
      "outputs": []
    },
    {
      "cell_type": "code",
      "metadata": {
        "id": "SkV_W1WE12Bo",
        "colab_type": "code",
        "colab": {},
        "outputId": "eddb7179-dfda-41d3-a844-507ab506d1ee"
      },
      "source": [
        "# Checking for duplicat columns\n",
        "duplicates1 = ['extraction_type','extraction_type_group','extraction_type_class']\n",
        "duplicates2 = ['payment','payment_type']\n",
        "duplicates3 = ['quantity_group','quantity']\n",
        "duplicates4 = ['source','source_type']\n",
        "duplicates5 = ['waterpoint_type','waterpoint_type_group']\n",
        "train.head()"
      ],
      "execution_count": 0,
      "outputs": [
        {
          "output_type": "execute_result",
          "data": {
            "text/html": [
              "<div>\n",
              "<style scoped>\n",
              "    .dataframe tbody tr th:only-of-type {\n",
              "        vertical-align: middle;\n",
              "    }\n",
              "\n",
              "    .dataframe tbody tr th {\n",
              "        vertical-align: top;\n",
              "    }\n",
              "\n",
              "    .dataframe thead th {\n",
              "        text-align: right;\n",
              "    }\n",
              "</style>\n",
              "<table border=\"1\" class=\"dataframe\">\n",
              "  <thead>\n",
              "    <tr style=\"text-align: right;\">\n",
              "      <th></th>\n",
              "      <th>id</th>\n",
              "      <th>amount_tsh</th>\n",
              "      <th>date_recorded</th>\n",
              "      <th>funder</th>\n",
              "      <th>gps_height</th>\n",
              "      <th>installer</th>\n",
              "      <th>longitude</th>\n",
              "      <th>latitude</th>\n",
              "      <th>wpt_name</th>\n",
              "      <th>num_private</th>\n",
              "      <th>...</th>\n",
              "      <th>water_quality</th>\n",
              "      <th>quality_group</th>\n",
              "      <th>quantity</th>\n",
              "      <th>quantity_group</th>\n",
              "      <th>source</th>\n",
              "      <th>source_type</th>\n",
              "      <th>source_class</th>\n",
              "      <th>waterpoint_type</th>\n",
              "      <th>waterpoint_type_group</th>\n",
              "      <th>status_group</th>\n",
              "    </tr>\n",
              "  </thead>\n",
              "  <tbody>\n",
              "    <tr>\n",
              "      <td>0</td>\n",
              "      <td>69572</td>\n",
              "      <td>6000.0</td>\n",
              "      <td>2011-03-14</td>\n",
              "      <td>Roman</td>\n",
              "      <td>1390</td>\n",
              "      <td>Roman</td>\n",
              "      <td>34.938093</td>\n",
              "      <td>-9.856322</td>\n",
              "      <td>none</td>\n",
              "      <td>0</td>\n",
              "      <td>...</td>\n",
              "      <td>soft</td>\n",
              "      <td>good</td>\n",
              "      <td>enough</td>\n",
              "      <td>enough</td>\n",
              "      <td>spring</td>\n",
              "      <td>spring</td>\n",
              "      <td>groundwater</td>\n",
              "      <td>communal standpipe</td>\n",
              "      <td>communal standpipe</td>\n",
              "      <td>functional</td>\n",
              "    </tr>\n",
              "    <tr>\n",
              "      <td>1</td>\n",
              "      <td>8776</td>\n",
              "      <td>0.0</td>\n",
              "      <td>2013-03-06</td>\n",
              "      <td>Grumeti</td>\n",
              "      <td>1399</td>\n",
              "      <td>GRUMETI</td>\n",
              "      <td>34.698766</td>\n",
              "      <td>-2.147466</td>\n",
              "      <td>Zahanati</td>\n",
              "      <td>0</td>\n",
              "      <td>...</td>\n",
              "      <td>soft</td>\n",
              "      <td>good</td>\n",
              "      <td>insufficient</td>\n",
              "      <td>insufficient</td>\n",
              "      <td>rainwater harvesting</td>\n",
              "      <td>rainwater harvesting</td>\n",
              "      <td>surface</td>\n",
              "      <td>communal standpipe</td>\n",
              "      <td>communal standpipe</td>\n",
              "      <td>functional</td>\n",
              "    </tr>\n",
              "    <tr>\n",
              "      <td>2</td>\n",
              "      <td>34310</td>\n",
              "      <td>25.0</td>\n",
              "      <td>2013-02-25</td>\n",
              "      <td>Lottery Club</td>\n",
              "      <td>686</td>\n",
              "      <td>World vision</td>\n",
              "      <td>37.460664</td>\n",
              "      <td>-3.821329</td>\n",
              "      <td>Kwa Mahundi</td>\n",
              "      <td>0</td>\n",
              "      <td>...</td>\n",
              "      <td>soft</td>\n",
              "      <td>good</td>\n",
              "      <td>enough</td>\n",
              "      <td>enough</td>\n",
              "      <td>dam</td>\n",
              "      <td>dam</td>\n",
              "      <td>surface</td>\n",
              "      <td>communal standpipe multiple</td>\n",
              "      <td>communal standpipe</td>\n",
              "      <td>functional</td>\n",
              "    </tr>\n",
              "    <tr>\n",
              "      <td>3</td>\n",
              "      <td>67743</td>\n",
              "      <td>0.0</td>\n",
              "      <td>2013-01-28</td>\n",
              "      <td>Unicef</td>\n",
              "      <td>263</td>\n",
              "      <td>UNICEF</td>\n",
              "      <td>38.486161</td>\n",
              "      <td>-11.155298</td>\n",
              "      <td>Zahanati Ya Nanyumbu</td>\n",
              "      <td>0</td>\n",
              "      <td>...</td>\n",
              "      <td>soft</td>\n",
              "      <td>good</td>\n",
              "      <td>dry</td>\n",
              "      <td>dry</td>\n",
              "      <td>machine dbh</td>\n",
              "      <td>borehole</td>\n",
              "      <td>groundwater</td>\n",
              "      <td>communal standpipe multiple</td>\n",
              "      <td>communal standpipe</td>\n",
              "      <td>non functional</td>\n",
              "    </tr>\n",
              "    <tr>\n",
              "      <td>4</td>\n",
              "      <td>19728</td>\n",
              "      <td>0.0</td>\n",
              "      <td>2011-07-13</td>\n",
              "      <td>Action In A</td>\n",
              "      <td>0</td>\n",
              "      <td>Artisan</td>\n",
              "      <td>31.130847</td>\n",
              "      <td>-1.825359</td>\n",
              "      <td>Shuleni</td>\n",
              "      <td>0</td>\n",
              "      <td>...</td>\n",
              "      <td>soft</td>\n",
              "      <td>good</td>\n",
              "      <td>seasonal</td>\n",
              "      <td>seasonal</td>\n",
              "      <td>rainwater harvesting</td>\n",
              "      <td>rainwater harvesting</td>\n",
              "      <td>surface</td>\n",
              "      <td>communal standpipe</td>\n",
              "      <td>communal standpipe</td>\n",
              "      <td>functional</td>\n",
              "    </tr>\n",
              "  </tbody>\n",
              "</table>\n",
              "<p>5 rows × 41 columns</p>\n",
              "</div>"
            ],
            "text/plain": [
              "      id  amount_tsh date_recorded        funder  gps_height     installer  \\\n",
              "0  69572      6000.0    2011-03-14         Roman        1390         Roman   \n",
              "1   8776         0.0    2013-03-06       Grumeti        1399       GRUMETI   \n",
              "2  34310        25.0    2013-02-25  Lottery Club         686  World vision   \n",
              "3  67743         0.0    2013-01-28        Unicef         263        UNICEF   \n",
              "4  19728         0.0    2011-07-13   Action In A           0       Artisan   \n",
              "\n",
              "   longitude   latitude              wpt_name  num_private  ... water_quality  \\\n",
              "0  34.938093  -9.856322                  none            0  ...          soft   \n",
              "1  34.698766  -2.147466              Zahanati            0  ...          soft   \n",
              "2  37.460664  -3.821329           Kwa Mahundi            0  ...          soft   \n",
              "3  38.486161 -11.155298  Zahanati Ya Nanyumbu            0  ...          soft   \n",
              "4  31.130847  -1.825359               Shuleni            0  ...          soft   \n",
              "\n",
              "  quality_group      quantity  quantity_group                source  \\\n",
              "0          good        enough          enough                spring   \n",
              "1          good  insufficient    insufficient  rainwater harvesting   \n",
              "2          good        enough          enough                   dam   \n",
              "3          good           dry             dry           machine dbh   \n",
              "4          good      seasonal        seasonal  rainwater harvesting   \n",
              "\n",
              "            source_type source_class              waterpoint_type  \\\n",
              "0                spring  groundwater           communal standpipe   \n",
              "1  rainwater harvesting      surface           communal standpipe   \n",
              "2                   dam      surface  communal standpipe multiple   \n",
              "3              borehole  groundwater  communal standpipe multiple   \n",
              "4  rainwater harvesting      surface           communal standpipe   \n",
              "\n",
              "  waterpoint_type_group    status_group  \n",
              "0    communal standpipe      functional  \n",
              "1    communal standpipe      functional  \n",
              "2    communal standpipe      functional  \n",
              "3    communal standpipe  non functional  \n",
              "4    communal standpipe      functional  \n",
              "\n",
              "[5 rows x 41 columns]"
            ]
          },
          "metadata": {
            "tags": []
          },
          "execution_count": 228
        }
      ]
    },
    {
      "cell_type": "code",
      "metadata": {
        "id": "R5NAM9WD12Br",
        "colab_type": "code",
        "colab": {},
        "outputId": "d100f1ce-956a-4d47-d519-8582ff3b094a"
      },
      "source": [
        "#Checking the duplicates to decide which to keep\n",
        "duplicate_lists = [duplicates1, duplicates2, duplicates3, duplicates4,\n",
        "                   duplicates5]\n",
        "\n",
        "for duplicate in duplicate_lists:\n",
        "  print(train[duplicate].describe())\n",
        "  print(\"\")"
      ],
      "execution_count": 0,
      "outputs": [
        {
          "output_type": "stream",
          "text": [
            "       extraction_type extraction_type_group extraction_type_class\n",
            "count            59400                 59400                 59400\n",
            "unique              18                    13                     7\n",
            "top            gravity               gravity               gravity\n",
            "freq             26780                 26780                 26780\n",
            "\n",
            "          payment payment_type\n",
            "count       59400        59400\n",
            "unique          7            7\n",
            "top     never pay    never pay\n",
            "freq        25348        25348\n",
            "\n",
            "       quantity_group quantity\n",
            "count           59400    59400\n",
            "unique              5        5\n",
            "top            enough   enough\n",
            "freq            33186    33186\n",
            "\n",
            "        source source_type\n",
            "count    59400       59400\n",
            "unique      10           7\n",
            "top     spring      spring\n",
            "freq     17021       17021\n",
            "\n",
            "           waterpoint_type waterpoint_type_group\n",
            "count                59400                 59400\n",
            "unique                   7                     6\n",
            "top     communal standpipe    communal standpipe\n",
            "freq                 28522                 34625\n",
            "\n"
          ],
          "name": "stdout"
        }
      ]
    },
    {
      "cell_type": "code",
      "metadata": {
        "id": "eWo9ikzb12Bv",
        "colab_type": "code",
        "colab": {}
      },
      "source": [
        "#my_train['region'].value_counts().index"
      ],
      "execution_count": 0,
      "outputs": []
    },
    {
      "cell_type": "code",
      "metadata": {
        "id": "fxroTGVJ12B0",
        "colab_type": "code",
        "colab": {},
        "outputId": "9e7b2b5a-0532-4fd5-a37d-ab9483675a89"
      },
      "source": [
        "Mwanza = train[train['region'] == 'Mwanza']\n",
        "Mwanza['longitude'] = Mwanza['longitude'].replace(0,np.nan)\n",
        "Mwanza['latitude'] = Mwanza['latitude'].replace(-2e-08, np.nan)"
      ],
      "execution_count": 0,
      "outputs": [
        {
          "output_type": "stream",
          "text": [
            "D:\\Users\\Patch\\Anaconda3\\envs\\unit\\lib\\site-packages\\ipykernel_launcher.py:2: SettingWithCopyWarning: \n",
            "A value is trying to be set on a copy of a slice from a DataFrame.\n",
            "Try using .loc[row_indexer,col_indexer] = value instead\n",
            "\n",
            "See the caveats in the documentation: http://pandas.pydata.org/pandas-docs/stable/user_guide/indexing.html#returning-a-view-versus-a-copy\n",
            "  \n",
            "D:\\Users\\Patch\\Anaconda3\\envs\\unit\\lib\\site-packages\\ipykernel_launcher.py:3: SettingWithCopyWarning: \n",
            "A value is trying to be set on a copy of a slice from a DataFrame.\n",
            "Try using .loc[row_indexer,col_indexer] = value instead\n",
            "\n",
            "See the caveats in the documentation: http://pandas.pydata.org/pandas-docs/stable/user_guide/indexing.html#returning-a-view-versus-a-copy\n",
            "  This is separate from the ipykernel package so we can avoid doing imports until\n"
          ],
          "name": "stderr"
        }
      ]
    },
    {
      "cell_type": "code",
      "metadata": {
        "id": "UEH6T2PP12B4",
        "colab_type": "code",
        "colab": {},
        "outputId": "08170359-8b87-4b3d-92ea-5c9cee4a08e1"
      },
      "source": [
        "np.mean(Mwanza['latitude'])"
      ],
      "execution_count": 0,
      "outputs": [
        {
          "output_type": "execute_result",
          "data": {
            "text/plain": [
              "-2.6205017775686277"
            ]
          },
          "metadata": {
            "tags": []
          },
          "execution_count": 232
        }
      ]
    },
    {
      "cell_type": "code",
      "metadata": {
        "id": "u4vAN-kT12B7",
        "colab_type": "code",
        "colab": {},
        "outputId": "0e254931-0aa0-4b8e-cef0-de075fad268c"
      },
      "source": [
        "np.mean(Mwanza['longitude'])"
      ],
      "execution_count": 0,
      "outputs": [
        {
          "output_type": "execute_result",
          "data": {
            "text/plain": [
              "33.09156419778649"
            ]
          },
          "metadata": {
            "tags": []
          },
          "execution_count": 233
        }
      ]
    },
    {
      "cell_type": "code",
      "metadata": {
        "id": "BOf8_WJk12B_",
        "colab_type": "code",
        "colab": {},
        "outputId": "013a4c44-0c05-4d34-f9ca-ba87c6b0fe4f"
      },
      "source": [
        "Shinyanga = train[train['region'] == 'Shinyanga']\n",
        "Shinyanga['longitude'] = Shinyanga['longitude'].replace(0,np.nan)\n",
        "Shinyanga['latitude'] = Shinyanga['latitude'].replace(-2e-08, np.nan)"
      ],
      "execution_count": 0,
      "outputs": [
        {
          "output_type": "stream",
          "text": [
            "D:\\Users\\Patch\\Anaconda3\\envs\\unit\\lib\\site-packages\\ipykernel_launcher.py:2: SettingWithCopyWarning: \n",
            "A value is trying to be set on a copy of a slice from a DataFrame.\n",
            "Try using .loc[row_indexer,col_indexer] = value instead\n",
            "\n",
            "See the caveats in the documentation: http://pandas.pydata.org/pandas-docs/stable/user_guide/indexing.html#returning-a-view-versus-a-copy\n",
            "  \n",
            "D:\\Users\\Patch\\Anaconda3\\envs\\unit\\lib\\site-packages\\ipykernel_launcher.py:3: SettingWithCopyWarning: \n",
            "A value is trying to be set on a copy of a slice from a DataFrame.\n",
            "Try using .loc[row_indexer,col_indexer] = value instead\n",
            "\n",
            "See the caveats in the documentation: http://pandas.pydata.org/pandas-docs/stable/user_guide/indexing.html#returning-a-view-versus-a-copy\n",
            "  This is separate from the ipykernel package so we can avoid doing imports until\n"
          ],
          "name": "stderr"
        }
      ]
    },
    {
      "cell_type": "code",
      "metadata": {
        "id": "WYv7pwmI12CC",
        "colab_type": "code",
        "colab": {},
        "outputId": "b9940fca-b4a2-44dc-b3e9-671ca0ed3aed"
      },
      "source": [
        "np.mean(Shinyanga['longitude'])"
      ],
      "execution_count": 0,
      "outputs": [
        {
          "output_type": "execute_result",
          "data": {
            "text/plain": [
              "33.24012071028917"
            ]
          },
          "metadata": {
            "tags": []
          },
          "execution_count": 235
        }
      ]
    },
    {
      "cell_type": "code",
      "metadata": {
        "id": "0S0HC0MU12CF",
        "colab_type": "code",
        "colab": {},
        "outputId": "81e33d87-b33d-4da8-8369-34b8bcb2cce9"
      },
      "source": [
        "np.mean(Shinyanga['latitude'])"
      ],
      "execution_count": 0,
      "outputs": [
        {
          "output_type": "execute_result",
          "data": {
            "text/plain": [
              "-3.495696017133518"
            ]
          },
          "metadata": {
            "tags": []
          },
          "execution_count": 236
        }
      ]
    },
    {
      "cell_type": "code",
      "metadata": {
        "id": "NkwaRCVH12CJ",
        "colab_type": "code",
        "colab": {}
      },
      "source": [
        "#Looking at the above lists, I'll remove the duplicate columns\n",
        "# and nearly duplicate columns that have fewer unique variables\n",
        "\n",
        "duplicates_to_drop = ['extraction_type_group','extraction_type_class',\n",
        "                    'payment_type','quantity_group', 'source_type',\n",
        "                    'waterpoint_type_group']"
      ],
      "execution_count": 0,
      "outputs": []
    },
    {
      "cell_type": "code",
      "metadata": {
        "id": "smRcS41712CM",
        "colab_type": "code",
        "colab": {}
      },
      "source": [
        "from sklearn.model_selection import train_test_split\n",
        "\n",
        "my_train, my_val = train_test_split(train, random_state=333)"
      ],
      "execution_count": 0,
      "outputs": []
    },
    {
      "cell_type": "code",
      "metadata": {
        "id": "YOOPr0Qw12CQ",
        "colab_type": "code",
        "colab": {},
        "outputId": "9070794e-d25a-4a8e-8077-bacc94fcf089"
      },
      "source": [
        "my_train[my_train['longitude']==0]['region'].value_counts()"
      ],
      "execution_count": 0,
      "outputs": [
        {
          "output_type": "execute_result",
          "data": {
            "text/plain": [
              "Shinyanga    763\n",
              "Mwanza       623\n",
              "Name: region, dtype: int64"
            ]
          },
          "metadata": {
            "tags": []
          },
          "execution_count": 239
        }
      ]
    },
    {
      "cell_type": "code",
      "metadata": {
        "id": "ghXFZBW012CT",
        "colab_type": "code",
        "colab": {},
        "outputId": "e0445f15-7ea3-450a-eee7-2ddcbf82426c"
      },
      "source": [
        "my_train[my_train['region']== 'Mwanza']"
      ],
      "execution_count": 0,
      "outputs": [
        {
          "output_type": "execute_result",
          "data": {
            "text/html": [
              "<div>\n",
              "<style scoped>\n",
              "    .dataframe tbody tr th:only-of-type {\n",
              "        vertical-align: middle;\n",
              "    }\n",
              "\n",
              "    .dataframe tbody tr th {\n",
              "        vertical-align: top;\n",
              "    }\n",
              "\n",
              "    .dataframe thead th {\n",
              "        text-align: right;\n",
              "    }\n",
              "</style>\n",
              "<table border=\"1\" class=\"dataframe\">\n",
              "  <thead>\n",
              "    <tr style=\"text-align: right;\">\n",
              "      <th></th>\n",
              "      <th>id</th>\n",
              "      <th>amount_tsh</th>\n",
              "      <th>date_recorded</th>\n",
              "      <th>funder</th>\n",
              "      <th>gps_height</th>\n",
              "      <th>installer</th>\n",
              "      <th>longitude</th>\n",
              "      <th>latitude</th>\n",
              "      <th>wpt_name</th>\n",
              "      <th>num_private</th>\n",
              "      <th>...</th>\n",
              "      <th>water_quality</th>\n",
              "      <th>quality_group</th>\n",
              "      <th>quantity</th>\n",
              "      <th>quantity_group</th>\n",
              "      <th>source</th>\n",
              "      <th>source_type</th>\n",
              "      <th>source_class</th>\n",
              "      <th>waterpoint_type</th>\n",
              "      <th>waterpoint_type_group</th>\n",
              "      <th>status_group</th>\n",
              "    </tr>\n",
              "  </thead>\n",
              "  <tbody>\n",
              "    <tr>\n",
              "      <td>3353</td>\n",
              "      <td>41817</td>\n",
              "      <td>0.0</td>\n",
              "      <td>2011-07-21</td>\n",
              "      <td>NaN</td>\n",
              "      <td>1183</td>\n",
              "      <td>NaN</td>\n",
              "      <td>33.111956</td>\n",
              "      <td>-2.125932e+00</td>\n",
              "      <td>Office</td>\n",
              "      <td>0</td>\n",
              "      <td>...</td>\n",
              "      <td>unknown</td>\n",
              "      <td>unknown</td>\n",
              "      <td>unknown</td>\n",
              "      <td>unknown</td>\n",
              "      <td>unknown</td>\n",
              "      <td>other</td>\n",
              "      <td>unknown</td>\n",
              "      <td>hand pump</td>\n",
              "      <td>hand pump</td>\n",
              "      <td>non functional</td>\n",
              "    </tr>\n",
              "    <tr>\n",
              "      <td>16640</td>\n",
              "      <td>64071</td>\n",
              "      <td>0.0</td>\n",
              "      <td>2011-08-08</td>\n",
              "      <td>Hesawa</td>\n",
              "      <td>1149</td>\n",
              "      <td>DWE</td>\n",
              "      <td>33.020814</td>\n",
              "      <td>-1.870797e+00</td>\n",
              "      <td>Church</td>\n",
              "      <td>0</td>\n",
              "      <td>...</td>\n",
              "      <td>soft</td>\n",
              "      <td>good</td>\n",
              "      <td>insufficient</td>\n",
              "      <td>insufficient</td>\n",
              "      <td>shallow well</td>\n",
              "      <td>shallow well</td>\n",
              "      <td>groundwater</td>\n",
              "      <td>hand pump</td>\n",
              "      <td>hand pump</td>\n",
              "      <td>functional</td>\n",
              "    </tr>\n",
              "    <tr>\n",
              "      <td>26365</td>\n",
              "      <td>24605</td>\n",
              "      <td>0.0</td>\n",
              "      <td>2011-07-18</td>\n",
              "      <td>Hesawa</td>\n",
              "      <td>0</td>\n",
              "      <td>DWE</td>\n",
              "      <td>33.251206</td>\n",
              "      <td>-2.536370e+00</td>\n",
              "      <td>Dyuya</td>\n",
              "      <td>0</td>\n",
              "      <td>...</td>\n",
              "      <td>soft</td>\n",
              "      <td>good</td>\n",
              "      <td>insufficient</td>\n",
              "      <td>insufficient</td>\n",
              "      <td>spring</td>\n",
              "      <td>spring</td>\n",
              "      <td>groundwater</td>\n",
              "      <td>other</td>\n",
              "      <td>other</td>\n",
              "      <td>non functional</td>\n",
              "    </tr>\n",
              "    <tr>\n",
              "      <td>51183</td>\n",
              "      <td>2206</td>\n",
              "      <td>0.0</td>\n",
              "      <td>2011-07-28</td>\n",
              "      <td>Government Of Tanzania</td>\n",
              "      <td>0</td>\n",
              "      <td>Government</td>\n",
              "      <td>0.000000</td>\n",
              "      <td>-2.000000e-08</td>\n",
              "      <td>Mahakama</td>\n",
              "      <td>0</td>\n",
              "      <td>...</td>\n",
              "      <td>unknown</td>\n",
              "      <td>unknown</td>\n",
              "      <td>dry</td>\n",
              "      <td>dry</td>\n",
              "      <td>dam</td>\n",
              "      <td>dam</td>\n",
              "      <td>surface</td>\n",
              "      <td>communal standpipe multiple</td>\n",
              "      <td>communal standpipe</td>\n",
              "      <td>non functional</td>\n",
              "    </tr>\n",
              "    <tr>\n",
              "      <td>52506</td>\n",
              "      <td>8245</td>\n",
              "      <td>0.0</td>\n",
              "      <td>2011-08-08</td>\n",
              "      <td>Hesawa</td>\n",
              "      <td>0</td>\n",
              "      <td>DWE</td>\n",
              "      <td>33.515992</td>\n",
              "      <td>-2.651120e+00</td>\n",
              "      <td>Mwabashola</td>\n",
              "      <td>0</td>\n",
              "      <td>...</td>\n",
              "      <td>soft</td>\n",
              "      <td>good</td>\n",
              "      <td>enough</td>\n",
              "      <td>enough</td>\n",
              "      <td>shallow well</td>\n",
              "      <td>shallow well</td>\n",
              "      <td>groundwater</td>\n",
              "      <td>other</td>\n",
              "      <td>other</td>\n",
              "      <td>non functional</td>\n",
              "    </tr>\n",
              "    <tr>\n",
              "      <td>...</td>\n",
              "      <td>...</td>\n",
              "      <td>...</td>\n",
              "      <td>...</td>\n",
              "      <td>...</td>\n",
              "      <td>...</td>\n",
              "      <td>...</td>\n",
              "      <td>...</td>\n",
              "      <td>...</td>\n",
              "      <td>...</td>\n",
              "      <td>...</td>\n",
              "      <td>...</td>\n",
              "      <td>...</td>\n",
              "      <td>...</td>\n",
              "      <td>...</td>\n",
              "      <td>...</td>\n",
              "      <td>...</td>\n",
              "      <td>...</td>\n",
              "      <td>...</td>\n",
              "      <td>...</td>\n",
              "      <td>...</td>\n",
              "      <td>...</td>\n",
              "    </tr>\n",
              "    <tr>\n",
              "      <td>18963</td>\n",
              "      <td>41164</td>\n",
              "      <td>0.0</td>\n",
              "      <td>2011-07-25</td>\n",
              "      <td>Bkhws</td>\n",
              "      <td>0</td>\n",
              "      <td>BKHWS</td>\n",
              "      <td>32.919408</td>\n",
              "      <td>-2.711763e+00</td>\n",
              "      <td>Loundy</td>\n",
              "      <td>0</td>\n",
              "      <td>...</td>\n",
              "      <td>soft</td>\n",
              "      <td>good</td>\n",
              "      <td>enough</td>\n",
              "      <td>enough</td>\n",
              "      <td>lake</td>\n",
              "      <td>river/lake</td>\n",
              "      <td>surface</td>\n",
              "      <td>communal standpipe</td>\n",
              "      <td>communal standpipe</td>\n",
              "      <td>non functional</td>\n",
              "    </tr>\n",
              "    <tr>\n",
              "      <td>49091</td>\n",
              "      <td>60405</td>\n",
              "      <td>0.0</td>\n",
              "      <td>2011-07-28</td>\n",
              "      <td>Hesawa</td>\n",
              "      <td>0</td>\n",
              "      <td>HESAWA</td>\n",
              "      <td>32.980052</td>\n",
              "      <td>-2.658572e+00</td>\n",
              "      <td>Kwa Kilo</td>\n",
              "      <td>0</td>\n",
              "      <td>...</td>\n",
              "      <td>soft</td>\n",
              "      <td>good</td>\n",
              "      <td>enough</td>\n",
              "      <td>enough</td>\n",
              "      <td>shallow well</td>\n",
              "      <td>shallow well</td>\n",
              "      <td>groundwater</td>\n",
              "      <td>other</td>\n",
              "      <td>other</td>\n",
              "      <td>functional</td>\n",
              "    </tr>\n",
              "    <tr>\n",
              "      <td>44103</td>\n",
              "      <td>28939</td>\n",
              "      <td>0.0</td>\n",
              "      <td>2011-07-30</td>\n",
              "      <td>Hesawa</td>\n",
              "      <td>0</td>\n",
              "      <td>DWE</td>\n",
              "      <td>33.048568</td>\n",
              "      <td>-2.460987e+00</td>\n",
              "      <td>Kwa Dundo</td>\n",
              "      <td>0</td>\n",
              "      <td>...</td>\n",
              "      <td>soft</td>\n",
              "      <td>good</td>\n",
              "      <td>enough</td>\n",
              "      <td>enough</td>\n",
              "      <td>shallow well</td>\n",
              "      <td>shallow well</td>\n",
              "      <td>groundwater</td>\n",
              "      <td>other</td>\n",
              "      <td>other</td>\n",
              "      <td>non functional</td>\n",
              "    </tr>\n",
              "    <tr>\n",
              "      <td>41317</td>\n",
              "      <td>47225</td>\n",
              "      <td>0.0</td>\n",
              "      <td>2011-07-30</td>\n",
              "      <td>Unicef</td>\n",
              "      <td>0</td>\n",
              "      <td>Maswi</td>\n",
              "      <td>33.069096</td>\n",
              "      <td>-2.431699e+00</td>\n",
              "      <td>Kwa Matayo</td>\n",
              "      <td>0</td>\n",
              "      <td>...</td>\n",
              "      <td>soft</td>\n",
              "      <td>good</td>\n",
              "      <td>enough</td>\n",
              "      <td>enough</td>\n",
              "      <td>machine dbh</td>\n",
              "      <td>borehole</td>\n",
              "      <td>groundwater</td>\n",
              "      <td>hand pump</td>\n",
              "      <td>hand pump</td>\n",
              "      <td>functional</td>\n",
              "    </tr>\n",
              "    <tr>\n",
              "      <td>8172</td>\n",
              "      <td>13409</td>\n",
              "      <td>0.0</td>\n",
              "      <td>2013-02-16</td>\n",
              "      <td>Pmo</td>\n",
              "      <td>0</td>\n",
              "      <td>DWE</td>\n",
              "      <td>0.000000</td>\n",
              "      <td>-2.000000e-08</td>\n",
              "      <td>Muungano</td>\n",
              "      <td>0</td>\n",
              "      <td>...</td>\n",
              "      <td>soft</td>\n",
              "      <td>good</td>\n",
              "      <td>enough</td>\n",
              "      <td>enough</td>\n",
              "      <td>shallow well</td>\n",
              "      <td>shallow well</td>\n",
              "      <td>groundwater</td>\n",
              "      <td>hand pump</td>\n",
              "      <td>hand pump</td>\n",
              "      <td>functional needs repair</td>\n",
              "    </tr>\n",
              "  </tbody>\n",
              "</table>\n",
              "<p>2313 rows × 41 columns</p>\n",
              "</div>"
            ],
            "text/plain": [
              "          id  amount_tsh date_recorded                  funder  gps_height  \\\n",
              "3353   41817         0.0    2011-07-21                     NaN        1183   \n",
              "16640  64071         0.0    2011-08-08                  Hesawa        1149   \n",
              "26365  24605         0.0    2011-07-18                  Hesawa           0   \n",
              "51183   2206         0.0    2011-07-28  Government Of Tanzania           0   \n",
              "52506   8245         0.0    2011-08-08                  Hesawa           0   \n",
              "...      ...         ...           ...                     ...         ...   \n",
              "18963  41164         0.0    2011-07-25                   Bkhws           0   \n",
              "49091  60405         0.0    2011-07-28                  Hesawa           0   \n",
              "44103  28939         0.0    2011-07-30                  Hesawa           0   \n",
              "41317  47225         0.0    2011-07-30                  Unicef           0   \n",
              "8172   13409         0.0    2013-02-16                     Pmo           0   \n",
              "\n",
              "        installer  longitude      latitude    wpt_name  num_private  ...  \\\n",
              "3353          NaN  33.111956 -2.125932e+00      Office            0  ...   \n",
              "16640         DWE  33.020814 -1.870797e+00      Church            0  ...   \n",
              "26365         DWE  33.251206 -2.536370e+00       Dyuya            0  ...   \n",
              "51183  Government   0.000000 -2.000000e-08    Mahakama            0  ...   \n",
              "52506         DWE  33.515992 -2.651120e+00  Mwabashola            0  ...   \n",
              "...           ...        ...           ...         ...          ...  ...   \n",
              "18963       BKHWS  32.919408 -2.711763e+00      Loundy            0  ...   \n",
              "49091      HESAWA  32.980052 -2.658572e+00    Kwa Kilo            0  ...   \n",
              "44103         DWE  33.048568 -2.460987e+00   Kwa Dundo            0  ...   \n",
              "41317       Maswi  33.069096 -2.431699e+00  Kwa Matayo            0  ...   \n",
              "8172          DWE   0.000000 -2.000000e-08    Muungano            0  ...   \n",
              "\n",
              "      water_quality quality_group      quantity  quantity_group        source  \\\n",
              "3353        unknown       unknown       unknown         unknown       unknown   \n",
              "16640          soft          good  insufficient    insufficient  shallow well   \n",
              "26365          soft          good  insufficient    insufficient        spring   \n",
              "51183       unknown       unknown           dry             dry           dam   \n",
              "52506          soft          good        enough          enough  shallow well   \n",
              "...             ...           ...           ...             ...           ...   \n",
              "18963          soft          good        enough          enough          lake   \n",
              "49091          soft          good        enough          enough  shallow well   \n",
              "44103          soft          good        enough          enough  shallow well   \n",
              "41317          soft          good        enough          enough   machine dbh   \n",
              "8172           soft          good        enough          enough  shallow well   \n",
              "\n",
              "        source_type source_class              waterpoint_type  \\\n",
              "3353          other      unknown                    hand pump   \n",
              "16640  shallow well  groundwater                    hand pump   \n",
              "26365        spring  groundwater                        other   \n",
              "51183           dam      surface  communal standpipe multiple   \n",
              "52506  shallow well  groundwater                        other   \n",
              "...             ...          ...                          ...   \n",
              "18963    river/lake      surface           communal standpipe   \n",
              "49091  shallow well  groundwater                        other   \n",
              "44103  shallow well  groundwater                        other   \n",
              "41317      borehole  groundwater                    hand pump   \n",
              "8172   shallow well  groundwater                    hand pump   \n",
              "\n",
              "      waterpoint_type_group             status_group  \n",
              "3353              hand pump           non functional  \n",
              "16640             hand pump               functional  \n",
              "26365                 other           non functional  \n",
              "51183    communal standpipe           non functional  \n",
              "52506                 other           non functional  \n",
              "...                     ...                      ...  \n",
              "18963    communal standpipe           non functional  \n",
              "49091                 other               functional  \n",
              "44103                 other           non functional  \n",
              "41317             hand pump               functional  \n",
              "8172              hand pump  functional needs repair  \n",
              "\n",
              "[2313 rows x 41 columns]"
            ]
          },
          "metadata": {
            "tags": []
          },
          "execution_count": 240
        }
      ]
    },
    {
      "cell_type": "code",
      "metadata": {
        "id": "1gQo-7_312CW",
        "colab_type": "code",
        "colab": {}
      },
      "source": [
        "import numpy as np\n",
        "def wrangle(X):\n",
        "  \n",
        "  # To prevent copy warnings\n",
        "  X = X.copy()\n",
        "\n",
        "  # Latitude is strange in that it doesn't have any 0s, but it does have these\n",
        "  # near-0 values\n",
        "  X['latitude'] = X['latitude'].replace(-2e-08, 0)\n",
        "\n",
        "  # there are numeric columns with 0s that should be nana\n",
        "  nans_as_zeros = ['latitude','longitude', 'construction_year',\n",
        "                   'gps_height', 'population']\n",
        "  for column in nans_as_zeros:\n",
        "    X[column] = X[column].replace(0, np.nan)\n",
        "    #I like this code Ryan had to make a new column for if its missing data\n",
        "    X[column+'_MISSING'] = X[column].isnull()    \n",
        "  \n",
        "  # X['longitude'] = X.apply(\n",
        "  #   lambda row: np.mean(Mwanza['longitude']) if np.isnan(row['longitude']) and row['region'] == 'Mwanza' else row['longitude'],\n",
        "  #   axis=1)\n",
        "  # X['longitude'] = X.apply(\n",
        "  #   lambda row: np.mean(Shinyanga['longitude']) if np.isnan(row['longitude']) and row['region'] == 'Shinyanga' else row['longitude'],\n",
        "  #   axis=1)\n",
        "\n",
        "\n",
        "  # X['latitude'] = X.apply(\n",
        "  #   lambda row: np.mean(Mwanza['latitude']) if np.isnan(row['latitude']) and row['region'] == 'Mwanza' else row['latitude'],\n",
        "  #   axis=1)\n",
        "  # X['latitude'] = X.apply(\n",
        "  #   lambda row: np.mean(Shinyanga['latitude']) if np.isnan(row['latitude']) and row['region'] == 'Shinyanga' else row['latitude'],\n",
        "  #   axis=1)\n",
        "  \n",
        "  #Date recorded is treated as an int. Extracting y/m/d\n",
        "  X['date_recorded'] = pd.to_datetime(X['date_recorded'])\n",
        "  X['year_recorded'] = X['date_recorded'].dt.year\n",
        "  X['month_recorded'] = X['date_recorded'].dt.month\n",
        "  X['day_recorded'] = X['date_recorded'].dt.day\n",
        "  X = X.drop(columns='date_recorded')\n",
        "    \n",
        "  # Engineer feature: how many years from construction_year to date_recorded\n",
        "  X['years_difference'] = X['year_recorded'] - X['construction_year']    \n",
        "\n",
        "  #Removing duplicate or near-duplicate columns\n",
        "  X = X.drop(columns=['payment_type','quantity_group', 'extraction_type_group'])\n",
        "\n",
        "  #Can be used for each train and validation\n",
        "  return X"
      ],
      "execution_count": 0,
      "outputs": []
    },
    {
      "cell_type": "code",
      "metadata": {
        "id": "K9O5eeHR12Ca",
        "colab_type": "code",
        "colab": {},
        "outputId": "c056cffe-e5dd-4fa0-be58-3bf45e2d6135"
      },
      "source": [
        "%%time\n",
        "my_train = wrangle(my_train)\n",
        "my_val = wrangle(my_val)\n",
        "test = wrangle(test)"
      ],
      "execution_count": 0,
      "outputs": [
        {
          "output_type": "stream",
          "text": [
            "Wall time: 273 ms\n"
          ],
          "name": "stdout"
        }
      ]
    },
    {
      "cell_type": "code",
      "metadata": {
        "id": "uvCKif8F12Cd",
        "colab_type": "code",
        "colab": {},
        "outputId": "7e0e987f-ba31-4c12-9f51-2a37bae11009"
      },
      "source": [
        "my_train['longitude'].value_counts()"
      ],
      "execution_count": 0,
      "outputs": [
        {
          "output_type": "execute_result",
          "data": {
            "text/plain": [
              "39.103752    2\n",
              "39.096499    2\n",
              "37.530515    2\n",
              "37.339811    2\n",
              "37.542785    2\n",
              "            ..\n",
              "31.701989    1\n",
              "37.131667    1\n",
              "34.607110    1\n",
              "33.076362    1\n",
              "35.005922    1\n",
              "Name: longitude, Length: 43123, dtype: int64"
            ]
          },
          "metadata": {
            "tags": []
          },
          "execution_count": 243
        }
      ]
    },
    {
      "cell_type": "code",
      "metadata": {
        "id": "0LxPkQU412Ci",
        "colab_type": "code",
        "colab": {},
        "outputId": "2b8bd3b6-0c98-4b7f-b20d-ac3aa2c585f6"
      },
      "source": [
        "my_train[my_train['id']== 6091]"
      ],
      "execution_count": 0,
      "outputs": [
        {
          "output_type": "execute_result",
          "data": {
            "text/html": [
              "<div>\n",
              "<style scoped>\n",
              "    .dataframe tbody tr th:only-of-type {\n",
              "        vertical-align: middle;\n",
              "    }\n",
              "\n",
              "    .dataframe tbody tr th {\n",
              "        vertical-align: top;\n",
              "    }\n",
              "\n",
              "    .dataframe thead th {\n",
              "        text-align: right;\n",
              "    }\n",
              "</style>\n",
              "<table border=\"1\" class=\"dataframe\">\n",
              "  <thead>\n",
              "    <tr style=\"text-align: right;\">\n",
              "      <th></th>\n",
              "      <th>id</th>\n",
              "      <th>amount_tsh</th>\n",
              "      <th>funder</th>\n",
              "      <th>gps_height</th>\n",
              "      <th>installer</th>\n",
              "      <th>longitude</th>\n",
              "      <th>latitude</th>\n",
              "      <th>wpt_name</th>\n",
              "      <th>num_private</th>\n",
              "      <th>basin</th>\n",
              "      <th>...</th>\n",
              "      <th>status_group</th>\n",
              "      <th>latitude_MISSING</th>\n",
              "      <th>longitude_MISSING</th>\n",
              "      <th>construction_year_MISSING</th>\n",
              "      <th>gps_height_MISSING</th>\n",
              "      <th>population_MISSING</th>\n",
              "      <th>year_recorded</th>\n",
              "      <th>month_recorded</th>\n",
              "      <th>day_recorded</th>\n",
              "      <th>years_difference</th>\n",
              "    </tr>\n",
              "  </thead>\n",
              "  <tbody>\n",
              "  </tbody>\n",
              "</table>\n",
              "<p>0 rows × 46 columns</p>\n",
              "</div>"
            ],
            "text/plain": [
              "Empty DataFrame\n",
              "Columns: [id, amount_tsh, funder, gps_height, installer, longitude, latitude, wpt_name, num_private, basin, subvillage, region, region_code, district_code, lga, ward, population, public_meeting, recorded_by, scheme_management, scheme_name, permit, construction_year, extraction_type, extraction_type_class, management, management_group, payment, water_quality, quality_group, quantity, source, source_type, source_class, waterpoint_type, waterpoint_type_group, status_group, latitude_MISSING, longitude_MISSING, construction_year_MISSING, gps_height_MISSING, population_MISSING, year_recorded, month_recorded, day_recorded, years_difference]\n",
              "Index: []\n",
              "\n",
              "[0 rows x 46 columns]"
            ]
          },
          "metadata": {
            "tags": []
          },
          "execution_count": 244
        }
      ]
    },
    {
      "cell_type": "code",
      "metadata": {
        "id": "rzivwbX112Cn",
        "colab_type": "code",
        "colab": {}
      },
      "source": [
        "# # Copied from previous assignment. \n",
        "# # Unecessary because high cardinality features are fine\n",
        "\n",
        "# # # Selecting target\n",
        "\n",
        "# target = 'status_group'\n",
        "\n",
        "# #Removing the target and useless id columns\n",
        "# train_columns = my_train.drop(columns=[target,'id'])\n",
        "\n",
        "# # separating numeric columns to readd after\n",
        "# numeric_columns = train_columns.select_dtypes(include='number').columns.tolist()\n",
        "\n",
        "# #Getting a list of cardinality for categorical features to exclude the large\n",
        "# cardinality = train_columns.select_dtypes(exclude='number').nunique()\n",
        "\n",
        "# #Excluding features with a cardinality over 50\n",
        "# categorical_columns = cardinality[cardinality <50].index.tolist()\n",
        "\n",
        "# #combining lists to get the features I will use for my model\n",
        "# features = numeric_columns + categorical_columns"
      ],
      "execution_count": 0,
      "outputs": []
    },
    {
      "cell_type": "code",
      "metadata": {
        "id": "hsDh_cGW12Cq",
        "colab_type": "code",
        "colab": {}
      },
      "source": [
        "# We can use high cardinality features, so no need to remove them\n",
        "target = 'status_group'\n",
        "\n",
        "features = my_train.drop(columns=[target,'id']).columns"
      ],
      "execution_count": 0,
      "outputs": []
    },
    {
      "cell_type": "code",
      "metadata": {
        "id": "HF5ZK3O712Ct",
        "colab_type": "code",
        "colab": {}
      },
      "source": [
        "#Assigning variables\n",
        "\n",
        "X_train = my_train[features]\n",
        "y_train = my_train[target]\n",
        "\n",
        "X_val = my_val[features]\n",
        "y_val = my_val[target]\n",
        "\n",
        "X_test = test[features]"
      ],
      "execution_count": 0,
      "outputs": []
    },
    {
      "cell_type": "markdown",
      "metadata": {
        "id": "q_gTSePI12Cw",
        "colab_type": "text"
      },
      "source": [
        "## Assignment 4 code"
      ]
    },
    {
      "cell_type": "markdown",
      "metadata": {
        "id": "rgctZSYZ2ANg",
        "colab_type": "text"
      },
      "source": [
        "Went with the column transformer to use ordinal encoding ONLY for the high cardinality columns, one hot encoding otherwise."
      ]
    },
    {
      "cell_type": "code",
      "metadata": {
        "id": "x_m2e5lS12Cx",
        "colab_type": "code",
        "colab": {}
      },
      "source": [
        "from sklearn.compose import ColumnTransformer\n",
        "import category_encoders as ce\n",
        "from sklearn.impute import SimpleImputer\n",
        "from sklearn.ensemble import RandomForestClassifier\n",
        "from sklearn.pipeline import make_pipeline\n",
        "from sklearn.pipeline import Pipeline\n",
        "\n",
        "#Getting a list of cardinality for categorical features to include in ordinal encoder\n",
        "train_columns = my_train.drop(columns=[target,'id'])\n",
        "cardinality = train_columns.select_dtypes(exclude='number').nunique()\n",
        "high_cardinality = cardinality[cardinality >49].index.tolist()\n",
        "\n",
        "# Making the high cardinality pipeline\n",
        "high_cardinality_pipeline = make_pipeline(\n",
        "    ce.OrdinalEncoder(),\n",
        "    SimpleImputer(strategy='median')\n",
        ")\n",
        "\n",
        "# Making the non-high cardinality pipeline\n",
        "non_high_cardinality = train_columns.drop(columns=high_cardinality).columns\n",
        "\n",
        "non_high_cardinality_pipeline = make_pipeline(\n",
        "    ce.OneHotEncoder(),\n",
        "    SimpleImputer(strategy='median')\n",
        ")\n",
        "\n",
        "\n",
        "#Associating the transformers with the list of features\n",
        "preprocessor = ColumnTransformer(\n",
        "    transformers=[\n",
        "        ('high_card',high_cardinality_pipeline, high_cardinality),\n",
        "        ('low_card',non_high_cardinality_pipeline, non_high_cardinality)])\n",
        "\n",
        "\n",
        "my_pipeline = make_pipeline(\n",
        "    preprocessor,\n",
        "    RandomForestClassifier(n_estimators=100, random_state=333, n_jobs=-1,\n",
        "                           max_depth=20)\n",
        ")"
      ],
      "execution_count": 0,
      "outputs": []
    },
    {
      "cell_type": "code",
      "metadata": {
        "id": "odufZ5wj12C1",
        "colab_type": "code",
        "colab": {},
        "outputId": "8578cf24-3b28-4df6-db0c-3dbaeb6fefd2"
      },
      "source": [
        "my_pipeline.fit(X_train,y_train)"
      ],
      "execution_count": 0,
      "outputs": [
        {
          "output_type": "execute_result",
          "data": {
            "text/plain": [
              "Pipeline(memory=None,\n",
              "         steps=[('columntransformer',\n",
              "                 ColumnTransformer(n_jobs=None, remainder='drop',\n",
              "                                   sparse_threshold=0.3,\n",
              "                                   transformer_weights=None,\n",
              "                                   transformers=[('high_card',\n",
              "                                                  Pipeline(memory=None,\n",
              "                                                           steps=[('ordinalencoder',\n",
              "                                                                   OrdinalEncoder(cols=None,\n",
              "                                                                                  drop_invariant=False,\n",
              "                                                                                  handle_missing='value',\n",
              "                                                                                  handle_unknown='value',\n",
              "                                                                                  mapping=None,\n",
              "                                                                                  return_df=True,\n",
              "                                                                                  verbose=0)),\n",
              "                                                                  ('s...\n",
              "                ('randomforestclassifier',\n",
              "                 RandomForestClassifier(bootstrap=True, class_weight=None,\n",
              "                                        criterion='gini', max_depth=20,\n",
              "                                        max_features='auto',\n",
              "                                        max_leaf_nodes=None,\n",
              "                                        min_impurity_decrease=0.0,\n",
              "                                        min_impurity_split=None,\n",
              "                                        min_samples_leaf=1, min_samples_split=2,\n",
              "                                        min_weight_fraction_leaf=0.0,\n",
              "                                        n_estimators=100, n_jobs=-1,\n",
              "                                        oob_score=False, random_state=333,\n",
              "                                        verbose=0, warm_start=False))],\n",
              "         verbose=False)"
            ]
          },
          "metadata": {
            "tags": []
          },
          "execution_count": 250
        }
      ]
    },
    {
      "cell_type": "code",
      "metadata": {
        "id": "EF2wOjgO12C5",
        "colab_type": "code",
        "colab": {},
        "outputId": "96adee8d-ca4b-47df-c415-48e5b0520c2e"
      },
      "source": [
        "my_pipeline.score(X_val,y_val)"
      ],
      "execution_count": 0,
      "outputs": [
        {
          "output_type": "execute_result",
          "data": {
            "text/plain": [
              "0.805993265993266"
            ]
          },
          "metadata": {
            "tags": []
          },
          "execution_count": 251
        }
      ]
    },
    {
      "cell_type": "code",
      "metadata": {
        "id": "92xDfevm12C8",
        "colab_type": "code",
        "colab": {}
      },
      "source": [
        "from scipy.stats import randint, uniform\n",
        "from sklearn.model_selection import GridSearchCV, RandomizedSearchCV\n"
      ],
      "execution_count": 0,
      "outputs": []
    },
    {
      "cell_type": "markdown",
      "metadata": {
        "id": "aPtRnqCf2Oq9",
        "colab_type": "text"
      },
      "source": [
        "Set up the RandomizedSearchCV to "
      ]
    },
    {
      "cell_type": "code",
      "metadata": {
        "id": "BFnZad4v12C_",
        "colab_type": "code",
        "colab": {},
        "outputId": "babb99f4-64db-4107-812c-4f5b7e815caa"
      },
      "source": [
        "%%time\n",
        "\n",
        "param_distributions = {\n",
        "    'randomforestclassifier__n_estimators': randint(100, 200),\n",
        "    'randomforestclassifier__max_depth': [17, 18,19,20,21,22, None],\n",
        "    'randomforestclassifier__min_samples_leaf': [1,2,3,4,5]\n",
        "}\n",
        "\n",
        "search = RandomizedSearchCV(\n",
        "    my_pipeline,\n",
        "    param_distributions=param_distributions,\n",
        "    n_iter=10,\n",
        "    cv=5,\n",
        "    scoring='accuracy',\n",
        "    verbose=10,\n",
        "    return_train_score=False,\n",
        "    n_jobs=-1\n",
        ")"
      ],
      "execution_count": 0,
      "outputs": [
        {
          "output_type": "stream",
          "text": [
            "Wall time: 1 ms\n"
          ],
          "name": "stdout"
        }
      ]
    },
    {
      "cell_type": "code",
      "metadata": {
        "id": "ZA1a1TtS12DC",
        "colab_type": "code",
        "colab": {},
        "outputId": "8b4995cd-8b6e-4d67-d3ff-276855fabf23"
      },
      "source": [
        "search.fit(X_train,y_train)"
      ],
      "execution_count": 0,
      "outputs": [
        {
          "output_type": "stream",
          "text": [
            "Fitting 5 folds for each of 10 candidates, totalling 50 fits\n"
          ],
          "name": "stdout"
        },
        {
          "output_type": "stream",
          "text": [
            "[Parallel(n_jobs=-1)]: Using backend LokyBackend with 4 concurrent workers.\n",
            "[Parallel(n_jobs=-1)]: Done   5 tasks      | elapsed:  1.2min\n",
            "[Parallel(n_jobs=-1)]: Done  10 tasks      | elapsed:  1.7min\n",
            "[Parallel(n_jobs=-1)]: Done  17 tasks      | elapsed:  2.8min\n",
            "[Parallel(n_jobs=-1)]: Done  24 tasks      | elapsed:  3.6min\n",
            "[Parallel(n_jobs=-1)]: Done  33 tasks      | elapsed:  5.0min\n",
            "[Parallel(n_jobs=-1)]: Done  42 tasks      | elapsed:  6.1min\n",
            "[Parallel(n_jobs=-1)]: Done  50 out of  50 | elapsed:  7.1min finished\n"
          ],
          "name": "stderr"
        },
        {
          "output_type": "execute_result",
          "data": {
            "text/plain": [
              "RandomizedSearchCV(cv=5, error_score='raise-deprecating',\n",
              "                   estimator=Pipeline(memory=None,\n",
              "                                      steps=[('columntransformer',\n",
              "                                              ColumnTransformer(n_jobs=None,\n",
              "                                                                remainder='drop',\n",
              "                                                                sparse_threshold=0.3,\n",
              "                                                                transformer_weights=None,\n",
              "                                                                transformers=[('high_card',\n",
              "                                                                               Pipeline(memory=None,\n",
              "                                                                                        steps=[('ordinalencoder',\n",
              "                                                                                                OrdinalEncoder(cols=None,\n",
              "                                                                                                               drop_invariant=False,\n",
              "                                                                                                               handle_missing='value',...\n",
              "                   param_distributions={'randomforestclassifier__max_depth': [17,\n",
              "                                                                              18,\n",
              "                                                                              19,\n",
              "                                                                              20,\n",
              "                                                                              21,\n",
              "                                                                              22,\n",
              "                                                                              None],\n",
              "                                        'randomforestclassifier__min_samples_leaf': [1,\n",
              "                                                                                     2,\n",
              "                                                                                     3,\n",
              "                                                                                     4,\n",
              "                                                                                     5],\n",
              "                                        'randomforestclassifier__n_estimators': <scipy.stats._distn_infrastructure.rv_frozen object at 0x000000000CB3BDC8>},\n",
              "                   pre_dispatch='2*n_jobs', random_state=None, refit=True,\n",
              "                   return_train_score=False, scoring='accuracy', verbose=10)"
            ]
          },
          "metadata": {
            "tags": []
          },
          "execution_count": 269
        }
      ]
    },
    {
      "cell_type": "code",
      "metadata": {
        "id": "zVwSi3nj12DG",
        "colab_type": "code",
        "colab": {},
        "outputId": "e67436c0-94bd-4be5-a390-e236a9a73ef7"
      },
      "source": [
        "search.best_score_"
      ],
      "execution_count": 0,
      "outputs": [
        {
          "output_type": "execute_result",
          "data": {
            "text/plain": [
              "0.8111111111111111"
            ]
          },
          "metadata": {
            "tags": []
          },
          "execution_count": 270
        }
      ]
    },
    {
      "cell_type": "code",
      "metadata": {
        "id": "ye5TlGTe12DK",
        "colab_type": "code",
        "colab": {},
        "outputId": "cd119254-b79b-45a4-da2b-abde801048fa"
      },
      "source": [
        "search.best_params_"
      ],
      "execution_count": 0,
      "outputs": [
        {
          "output_type": "execute_result",
          "data": {
            "text/plain": [
              "{'randomforestclassifier__max_depth': 21,\n",
              " 'randomforestclassifier__min_samples_leaf': 1,\n",
              " 'randomforestclassifier__n_estimators': 194}"
            ]
          },
          "metadata": {
            "tags": []
          },
          "execution_count": 271
        }
      ]
    },
    {
      "cell_type": "code",
      "metadata": {
        "id": "I-2nimtb12DP",
        "colab_type": "code",
        "colab": {},
        "outputId": "cce9988a-e433-41a3-9e43-bd4462b93764"
      },
      "source": [
        "search.best_estimator_"
      ],
      "execution_count": 0,
      "outputs": [
        {
          "output_type": "execute_result",
          "data": {
            "text/plain": [
              "Pipeline(memory=None,\n",
              "         steps=[('columntransformer',\n",
              "                 ColumnTransformer(n_jobs=None, remainder='drop',\n",
              "                                   sparse_threshold=0.3,\n",
              "                                   transformer_weights=None,\n",
              "                                   transformers=[('high_card',\n",
              "                                                  Pipeline(memory=None,\n",
              "                                                           steps=[('ordinalencoder',\n",
              "                                                                   OrdinalEncoder(cols=None,\n",
              "                                                                                  drop_invariant=False,\n",
              "                                                                                  handle_missing='value',\n",
              "                                                                                  handle_unknown='value',\n",
              "                                                                                  mapping=None,\n",
              "                                                                                  return_df=True,\n",
              "                                                                                  verbose=0)),\n",
              "                                                                  ('s...\n",
              "                ('randomforestclassifier',\n",
              "                 RandomForestClassifier(bootstrap=True, class_weight=None,\n",
              "                                        criterion='gini', max_depth=21,\n",
              "                                        max_features='auto',\n",
              "                                        max_leaf_nodes=None,\n",
              "                                        min_impurity_decrease=0.0,\n",
              "                                        min_impurity_split=None,\n",
              "                                        min_samples_leaf=1, min_samples_split=2,\n",
              "                                        min_weight_fraction_leaf=0.0,\n",
              "                                        n_estimators=194, n_jobs=-1,\n",
              "                                        oob_score=False, random_state=333,\n",
              "                                        verbose=0, warm_start=False))],\n",
              "         verbose=False)"
            ]
          },
          "metadata": {
            "tags": []
          },
          "execution_count": 272
        }
      ]
    },
    {
      "cell_type": "markdown",
      "metadata": {
        "id": "mH0TtQC112DS",
        "colab_type": "text"
      },
      "source": [
        "## Submission Code"
      ]
    },
    {
      "cell_type": "code",
      "metadata": {
        "id": "6zBRvarY12DT",
        "colab_type": "code",
        "colab": {}
      },
      "source": [
        "pipeline = search.best_estimator_"
      ],
      "execution_count": 0,
      "outputs": []
    },
    {
      "cell_type": "code",
      "metadata": {
        "id": "TYhcU3iC12DW",
        "colab_type": "code",
        "colab": {}
      },
      "source": [
        "pred_y_test = pipeline.predict(X_test)"
      ],
      "execution_count": 0,
      "outputs": []
    },
    {
      "cell_type": "code",
      "metadata": {
        "id": "ztfW1bm_12DZ",
        "colab_type": "code",
        "colab": {}
      },
      "source": [
        "cv8_submission = test.copy()"
      ],
      "execution_count": 0,
      "outputs": []
    },
    {
      "cell_type": "code",
      "metadata": {
        "id": "Xrmn4YeK12Dc",
        "colab_type": "code",
        "colab": {}
      },
      "source": [
        "cv8_submission['status_group'] = pred_y_test"
      ],
      "execution_count": 0,
      "outputs": []
    },
    {
      "cell_type": "code",
      "metadata": {
        "id": "NIyw0cg112Df",
        "colab_type": "code",
        "colab": {}
      },
      "source": [
        "cv8_submission = cv8_submission.filter(['id','status_group'])"
      ],
      "execution_count": 0,
      "outputs": []
    },
    {
      "cell_type": "code",
      "metadata": {
        "id": "fI4icGU812Dj",
        "colab_type": "code",
        "colab": {},
        "outputId": "407df0c2-4f65-4c2a-d4fa-4735a7b8e22b"
      },
      "source": [
        "cv8_submission"
      ],
      "execution_count": 0,
      "outputs": [
        {
          "output_type": "execute_result",
          "data": {
            "text/html": [
              "<div>\n",
              "<style scoped>\n",
              "    .dataframe tbody tr th:only-of-type {\n",
              "        vertical-align: middle;\n",
              "    }\n",
              "\n",
              "    .dataframe tbody tr th {\n",
              "        vertical-align: top;\n",
              "    }\n",
              "\n",
              "    .dataframe thead th {\n",
              "        text-align: right;\n",
              "    }\n",
              "</style>\n",
              "<table border=\"1\" class=\"dataframe\">\n",
              "  <thead>\n",
              "    <tr style=\"text-align: right;\">\n",
              "      <th></th>\n",
              "      <th>id</th>\n",
              "      <th>status_group</th>\n",
              "    </tr>\n",
              "  </thead>\n",
              "  <tbody>\n",
              "    <tr>\n",
              "      <td>0</td>\n",
              "      <td>50785</td>\n",
              "      <td>functional</td>\n",
              "    </tr>\n",
              "    <tr>\n",
              "      <td>1</td>\n",
              "      <td>51630</td>\n",
              "      <td>functional</td>\n",
              "    </tr>\n",
              "    <tr>\n",
              "      <td>2</td>\n",
              "      <td>17168</td>\n",
              "      <td>functional</td>\n",
              "    </tr>\n",
              "    <tr>\n",
              "      <td>3</td>\n",
              "      <td>45559</td>\n",
              "      <td>non functional</td>\n",
              "    </tr>\n",
              "    <tr>\n",
              "      <td>4</td>\n",
              "      <td>49871</td>\n",
              "      <td>functional</td>\n",
              "    </tr>\n",
              "    <tr>\n",
              "      <td>...</td>\n",
              "      <td>...</td>\n",
              "      <td>...</td>\n",
              "    </tr>\n",
              "    <tr>\n",
              "      <td>14353</td>\n",
              "      <td>39307</td>\n",
              "      <td>non functional</td>\n",
              "    </tr>\n",
              "    <tr>\n",
              "      <td>14354</td>\n",
              "      <td>18990</td>\n",
              "      <td>functional</td>\n",
              "    </tr>\n",
              "    <tr>\n",
              "      <td>14355</td>\n",
              "      <td>28749</td>\n",
              "      <td>functional</td>\n",
              "    </tr>\n",
              "    <tr>\n",
              "      <td>14356</td>\n",
              "      <td>33492</td>\n",
              "      <td>functional</td>\n",
              "    </tr>\n",
              "    <tr>\n",
              "      <td>14357</td>\n",
              "      <td>68707</td>\n",
              "      <td>non functional</td>\n",
              "    </tr>\n",
              "  </tbody>\n",
              "</table>\n",
              "<p>14358 rows × 2 columns</p>\n",
              "</div>"
            ],
            "text/plain": [
              "          id    status_group\n",
              "0      50785      functional\n",
              "1      51630      functional\n",
              "2      17168      functional\n",
              "3      45559  non functional\n",
              "4      49871      functional\n",
              "...      ...             ...\n",
              "14353  39307  non functional\n",
              "14354  18990      functional\n",
              "14355  28749      functional\n",
              "14356  33492      functional\n",
              "14357  68707  non functional\n",
              "\n",
              "[14358 rows x 2 columns]"
            ]
          },
          "metadata": {
            "tags": []
          },
          "execution_count": 311
        }
      ]
    },
    {
      "cell_type": "code",
      "metadata": {
        "id": "9rYpD34x12Dn",
        "colab_type": "code",
        "colab": {}
      },
      "source": [
        "cv8_submission.to_csv('cv8_submission.csv', index=False)"
      ],
      "execution_count": 0,
      "outputs": []
    },
    {
      "cell_type": "markdown",
      "metadata": {
        "id": "_pUOTFoD12Dp",
        "colab_type": "text"
      },
      "source": [
        "## The code below used to combine the my_train and my_val data to use in the final fitting with the randomCV optomized model"
      ]
    },
    {
      "cell_type": "code",
      "metadata": {
        "id": "yVz71rk912Dq",
        "colab_type": "code",
        "colab": {},
        "outputId": "8976e0e6-3602-4423-ec51-960cba2b36b5"
      },
      "source": [
        "my_train.shape,my_val.shape"
      ],
      "execution_count": 0,
      "outputs": [
        {
          "output_type": "execute_result",
          "data": {
            "text/plain": [
              "((44550, 46), (14850, 46))"
            ]
          },
          "metadata": {
            "tags": []
          },
          "execution_count": 297
        }
      ]
    },
    {
      "cell_type": "code",
      "metadata": {
        "id": "7QHTM9eh12Dv",
        "colab_type": "code",
        "colab": {}
      },
      "source": [
        "# Combining all training data to use with the best model the randomcv found\n",
        "final_train = pd.concat([my_train,my_val], ignore_index=True)"
      ],
      "execution_count": 0,
      "outputs": []
    },
    {
      "cell_type": "code",
      "metadata": {
        "id": "6ivV2hE212Dx",
        "colab_type": "code",
        "colab": {},
        "outputId": "49b3cf02-473c-4aa0-9af8-433f447b3b42"
      },
      "source": [
        "final_train.shape"
      ],
      "execution_count": 0,
      "outputs": [
        {
          "output_type": "execute_result",
          "data": {
            "text/plain": [
              "(59400, 46)"
            ]
          },
          "metadata": {
            "tags": []
          },
          "execution_count": 304
        }
      ]
    },
    {
      "cell_type": "code",
      "metadata": {
        "id": "A-DpJ10h12D0",
        "colab_type": "code",
        "colab": {},
        "outputId": "0d3a3dec-5d93-47a0-d04f-a31d3e9f4dfb"
      },
      "source": [
        "final_train.head()"
      ],
      "execution_count": 0,
      "outputs": [
        {
          "output_type": "execute_result",
          "data": {
            "text/html": [
              "<div>\n",
              "<style scoped>\n",
              "    .dataframe tbody tr th:only-of-type {\n",
              "        vertical-align: middle;\n",
              "    }\n",
              "\n",
              "    .dataframe tbody tr th {\n",
              "        vertical-align: top;\n",
              "    }\n",
              "\n",
              "    .dataframe thead th {\n",
              "        text-align: right;\n",
              "    }\n",
              "</style>\n",
              "<table border=\"1\" class=\"dataframe\">\n",
              "  <thead>\n",
              "    <tr style=\"text-align: right;\">\n",
              "      <th></th>\n",
              "      <th>id</th>\n",
              "      <th>amount_tsh</th>\n",
              "      <th>funder</th>\n",
              "      <th>gps_height</th>\n",
              "      <th>installer</th>\n",
              "      <th>longitude</th>\n",
              "      <th>latitude</th>\n",
              "      <th>wpt_name</th>\n",
              "      <th>num_private</th>\n",
              "      <th>basin</th>\n",
              "      <th>...</th>\n",
              "      <th>status_group</th>\n",
              "      <th>latitude_MISSING</th>\n",
              "      <th>longitude_MISSING</th>\n",
              "      <th>construction_year_MISSING</th>\n",
              "      <th>gps_height_MISSING</th>\n",
              "      <th>population_MISSING</th>\n",
              "      <th>year_recorded</th>\n",
              "      <th>month_recorded</th>\n",
              "      <th>day_recorded</th>\n",
              "      <th>years_difference</th>\n",
              "    </tr>\n",
              "  </thead>\n",
              "  <tbody>\n",
              "    <tr>\n",
              "      <td>0</td>\n",
              "      <td>56413</td>\n",
              "      <td>0.0</td>\n",
              "      <td>Dhv</td>\n",
              "      <td>362.0</td>\n",
              "      <td>DWE</td>\n",
              "      <td>36.760514</td>\n",
              "      <td>-8.970829</td>\n",
              "      <td>Shuleni</td>\n",
              "      <td>0</td>\n",
              "      <td>Rufiji</td>\n",
              "      <td>...</td>\n",
              "      <td>functional</td>\n",
              "      <td>False</td>\n",
              "      <td>False</td>\n",
              "      <td>False</td>\n",
              "      <td>False</td>\n",
              "      <td>False</td>\n",
              "      <td>2011</td>\n",
              "      <td>3</td>\n",
              "      <td>4</td>\n",
              "      <td>17.0</td>\n",
              "    </tr>\n",
              "    <tr>\n",
              "      <td>1</td>\n",
              "      <td>33507</td>\n",
              "      <td>20.0</td>\n",
              "      <td>Tanapa</td>\n",
              "      <td>391.0</td>\n",
              "      <td>TA</td>\n",
              "      <td>38.006725</td>\n",
              "      <td>-6.080969</td>\n",
              "      <td>Kwa Mzee Omary</td>\n",
              "      <td>0</td>\n",
              "      <td>Wami / Ruvu</td>\n",
              "      <td>...</td>\n",
              "      <td>functional</td>\n",
              "      <td>False</td>\n",
              "      <td>False</td>\n",
              "      <td>False</td>\n",
              "      <td>False</td>\n",
              "      <td>False</td>\n",
              "      <td>2011</td>\n",
              "      <td>3</td>\n",
              "      <td>8</td>\n",
              "      <td>1.0</td>\n",
              "    </tr>\n",
              "    <tr>\n",
              "      <td>2</td>\n",
              "      <td>62973</td>\n",
              "      <td>25.0</td>\n",
              "      <td>Government Of Tanzania</td>\n",
              "      <td>855.0</td>\n",
              "      <td>Government</td>\n",
              "      <td>37.728087</td>\n",
              "      <td>-4.062194</td>\n",
              "      <td>Kwa Rabeka</td>\n",
              "      <td>0</td>\n",
              "      <td>Pangani</td>\n",
              "      <td>...</td>\n",
              "      <td>functional</td>\n",
              "      <td>False</td>\n",
              "      <td>False</td>\n",
              "      <td>False</td>\n",
              "      <td>False</td>\n",
              "      <td>False</td>\n",
              "      <td>2013</td>\n",
              "      <td>3</td>\n",
              "      <td>4</td>\n",
              "      <td>3.0</td>\n",
              "    </tr>\n",
              "    <tr>\n",
              "      <td>3</td>\n",
              "      <td>36171</td>\n",
              "      <td>0.0</td>\n",
              "      <td>Government Of Tanzania</td>\n",
              "      <td>1474.0</td>\n",
              "      <td>DWE</td>\n",
              "      <td>37.497065</td>\n",
              "      <td>-3.282689</td>\n",
              "      <td>Kwa Paterino Shayo</td>\n",
              "      <td>0</td>\n",
              "      <td>Pangani</td>\n",
              "      <td>...</td>\n",
              "      <td>non functional</td>\n",
              "      <td>False</td>\n",
              "      <td>False</td>\n",
              "      <td>False</td>\n",
              "      <td>False</td>\n",
              "      <td>False</td>\n",
              "      <td>2013</td>\n",
              "      <td>3</td>\n",
              "      <td>26</td>\n",
              "      <td>41.0</td>\n",
              "    </tr>\n",
              "    <tr>\n",
              "      <td>4</td>\n",
              "      <td>30341</td>\n",
              "      <td>0.0</td>\n",
              "      <td>Commu</td>\n",
              "      <td>2044.0</td>\n",
              "      <td>Commu</td>\n",
              "      <td>34.140166</td>\n",
              "      <td>-9.277889</td>\n",
              "      <td>none</td>\n",
              "      <td>0</td>\n",
              "      <td>Lake Nyasa</td>\n",
              "      <td>...</td>\n",
              "      <td>functional</td>\n",
              "      <td>False</td>\n",
              "      <td>False</td>\n",
              "      <td>False</td>\n",
              "      <td>False</td>\n",
              "      <td>True</td>\n",
              "      <td>2011</td>\n",
              "      <td>2</td>\n",
              "      <td>21</td>\n",
              "      <td>2.0</td>\n",
              "    </tr>\n",
              "  </tbody>\n",
              "</table>\n",
              "<p>5 rows × 46 columns</p>\n",
              "</div>"
            ],
            "text/plain": [
              "      id  amount_tsh                  funder  gps_height   installer  \\\n",
              "0  56413         0.0                     Dhv       362.0         DWE   \n",
              "1  33507        20.0                  Tanapa       391.0          TA   \n",
              "2  62973        25.0  Government Of Tanzania       855.0  Government   \n",
              "3  36171         0.0  Government Of Tanzania      1474.0         DWE   \n",
              "4  30341         0.0                   Commu      2044.0       Commu   \n",
              "\n",
              "   longitude  latitude            wpt_name  num_private        basin  ...  \\\n",
              "0  36.760514 -8.970829             Shuleni            0       Rufiji  ...   \n",
              "1  38.006725 -6.080969      Kwa Mzee Omary            0  Wami / Ruvu  ...   \n",
              "2  37.728087 -4.062194          Kwa Rabeka            0      Pangani  ...   \n",
              "3  37.497065 -3.282689  Kwa Paterino Shayo            0      Pangani  ...   \n",
              "4  34.140166 -9.277889                none            0   Lake Nyasa  ...   \n",
              "\n",
              "     status_group latitude_MISSING  longitude_MISSING  \\\n",
              "0      functional            False              False   \n",
              "1      functional            False              False   \n",
              "2      functional            False              False   \n",
              "3  non functional            False              False   \n",
              "4      functional            False              False   \n",
              "\n",
              "   construction_year_MISSING gps_height_MISSING population_MISSING  \\\n",
              "0                      False              False              False   \n",
              "1                      False              False              False   \n",
              "2                      False              False              False   \n",
              "3                      False              False              False   \n",
              "4                      False              False               True   \n",
              "\n",
              "   year_recorded month_recorded day_recorded years_difference  \n",
              "0           2011              3            4             17.0  \n",
              "1           2011              3            8              1.0  \n",
              "2           2013              3            4              3.0  \n",
              "3           2013              3           26             41.0  \n",
              "4           2011              2           21              2.0  \n",
              "\n",
              "[5 rows x 46 columns]"
            ]
          },
          "metadata": {
            "tags": []
          },
          "execution_count": 305
        }
      ]
    },
    {
      "cell_type": "code",
      "metadata": {
        "id": "KsWpjhDh12D3",
        "colab_type": "code",
        "colab": {},
        "outputId": "a06025eb-7ca7-427d-89e8-5f3671024364"
      },
      "source": [
        "pipeline.fit(final_train[features],final_train[target])"
      ],
      "execution_count": 0,
      "outputs": [
        {
          "output_type": "execute_result",
          "data": {
            "text/plain": [
              "Pipeline(memory=None,\n",
              "         steps=[('columntransformer',\n",
              "                 ColumnTransformer(n_jobs=None, remainder='drop',\n",
              "                                   sparse_threshold=0.3,\n",
              "                                   transformer_weights=None,\n",
              "                                   transformers=[('high_card',\n",
              "                                                  Pipeline(memory=None,\n",
              "                                                           steps=[('ordinalencoder',\n",
              "                                                                   OrdinalEncoder(cols=None,\n",
              "                                                                                  drop_invariant=False,\n",
              "                                                                                  handle_missing='value',\n",
              "                                                                                  handle_unknown='value',\n",
              "                                                                                  mapping=None,\n",
              "                                                                                  return_df=True,\n",
              "                                                                                  verbose=0)),\n",
              "                                                                  ('s...\n",
              "                ('randomforestclassifier',\n",
              "                 RandomForestClassifier(bootstrap=True, class_weight=None,\n",
              "                                        criterion='gini', max_depth=21,\n",
              "                                        max_features='auto',\n",
              "                                        max_leaf_nodes=None,\n",
              "                                        min_impurity_decrease=0.0,\n",
              "                                        min_impurity_split=None,\n",
              "                                        min_samples_leaf=1, min_samples_split=2,\n",
              "                                        min_weight_fraction_leaf=0.0,\n",
              "                                        n_estimators=194, n_jobs=-1,\n",
              "                                        oob_score=False, random_state=333,\n",
              "                                        verbose=0, warm_start=False))],\n",
              "         verbose=False)"
            ]
          },
          "metadata": {
            "tags": []
          },
          "execution_count": 306
        }
      ]
    },
    {
      "cell_type": "code",
      "metadata": {
        "id": "sSzjprCg12D5",
        "colab_type": "code",
        "colab": {}
      },
      "source": [
        ""
      ],
      "execution_count": 0,
      "outputs": []
    }
  ]
}